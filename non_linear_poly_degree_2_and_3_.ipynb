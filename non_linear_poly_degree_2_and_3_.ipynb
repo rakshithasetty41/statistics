{
  "nbformat": 4,
  "nbformat_minor": 0,
  "metadata": {
    "colab": {
      "provenance": [],
      "authorship_tag": "ABX9TyNP0SAWIDBmD420ZBt9dJtN",
      "include_colab_link": true
    },
    "kernelspec": {
      "name": "python3",
      "display_name": "Python 3"
    },
    "language_info": {
      "name": "python"
    }
  },
  "cells": [
    {
      "cell_type": "markdown",
      "metadata": {
        "id": "view-in-github",
        "colab_type": "text"
      },
      "source": [
        "<a href=\"https://colab.research.google.com/github/rakshithasetty41/statistics/blob/main/non_linear_poly_degree_2_and_3_.ipynb\" target=\"_parent\"><img src=\"https://colab.research.google.com/assets/colab-badge.svg\" alt=\"Open In Colab\"/></a>"
      ]
    },
    {
      "cell_type": "code",
      "execution_count": null,
      "metadata": {
        "colab": {
          "base_uri": "https://localhost:8080/"
        },
        "id": "Im7apfSOXxZN",
        "outputId": "e4b523b7-6a29-4041-e3b9-73afd5232bd0"
      },
      "outputs": [
        {
          "output_type": "execute_result",
          "data": {
            "text/plain": [
              "20"
            ]
          },
          "metadata": {},
          "execution_count": 39
        }
      ],
      "source": [
        "infile=open('/content/diabietics_scores.txt')\n",
        "header=infile.readline()\n",
        "data=infile.readlines()\n",
        "len(data)\n"
      ]
    },
    {
      "cell_type": "code",
      "source": [
        "data[:3]"
      ],
      "metadata": {
        "colab": {
          "base_uri": "https://localhost:8080/"
        },
        "id": "itxrZUx_aDUg",
        "outputId": "255c79c4-aa7f-42d6-8e59-4f1836be8f39"
      },
      "execution_count": null,
      "outputs": [
        {
          "output_type": "execute_result",
          "data": {
            "text/plain": [
              "['  45,25.3,120,140,85,Yes,73.15\\n',\n",
              " '  50,28.1,130,155,90,Yes,80.05\\n',\n",
              " '  38,23.5,115,110,75,No,64.25\\n']"
            ]
          },
          "metadata": {},
          "execution_count": 40
        }
      ]
    },
    {
      "cell_type": "code",
      "source": [
        "age=[]\n",
        "bmi=[]\n",
        "bp=[]\n",
        "gl=[]\n",
        "il=[]\n",
        "dscore=[]\n"
      ],
      "metadata": {
        "id": "3NwHBf8kYd_b"
      },
      "execution_count": null,
      "outputs": []
    },
    {
      "cell_type": "code",
      "source": [
        " for line in data:\n",
        "   w = line.strip().split(',')\n",
        "   # [age, bmi, bp, gl, il, dstat, dscore]\n",
        "   age.append(float(w[0]))\n",
        "   bmi.append(float(w[1]))\n",
        "   bp.append(float(w[2]))\n",
        "   gl.append(float(w[3]))\n",
        "   il.append(float(w[-3]))\n",
        "   dscore.append(float(w[-1]))"
      ],
      "metadata": {
        "id": "bCLkea_mkuJ8"
      },
      "execution_count": null,
      "outputs": []
    },
    {
      "cell_type": "code",
      "source": [
        "age"
      ],
      "metadata": {
        "colab": {
          "base_uri": "https://localhost:8080/"
        },
        "id": "4NvwYVI7aTWe",
        "outputId": "f492a4bb-5627-4d54-f84f-bc1ec601c243"
      },
      "execution_count": null,
      "outputs": [
        {
          "output_type": "execute_result",
          "data": {
            "text/plain": [
              "[45.0,\n",
              " 50.0,\n",
              " 38.0,\n",
              " 60.0,\n",
              " 55.0,\n",
              " 32.0,\n",
              " 42.0,\n",
              " 48.0,\n",
              " 35.0,\n",
              " 58.0,\n",
              " 41.0,\n",
              " 47.0,\n",
              " 36.0,\n",
              " 53.0,\n",
              " 40.0,\n",
              " 61.0,\n",
              " 39.0,\n",
              " 49.0,\n",
              " 37.0,\n",
              " 54.0]"
            ]
          },
          "metadata": {},
          "execution_count": 11
        }
      ]
    },
    {
      "cell_type": "code",
      "source": [
        "import numpy as np\n"
      ],
      "metadata": {
        "id": "sEMwTABlaVwR"
      },
      "execution_count": null,
      "outputs": []
    },
    {
      "cell_type": "code",
      "source": [
        "age=np.array(age)\n",
        "bmi=np.array(bmi)\n",
        "bp=np.array(bp)\n",
        "gl=np.array(gl)\n",
        "il=np.array(il)\n",
        "dscore=np.array(dscore)\n"
      ],
      "metadata": {
        "id": "HL_6bfY8ae0Z"
      },
      "execution_count": null,
      "outputs": []
    },
    {
      "cell_type": "code",
      "source": [
        "ones = np.ones(len(age))\n",
        "X_linear = np.c_[ones, age, bmi, bp, gl, il]\n",
        "Y = np.c_[dscore]\n"
      ],
      "metadata": {
        "id": "VFgpIHm2a2Ko"
      },
      "execution_count": null,
      "outputs": []
    },
    {
      "cell_type": "code",
      "source": [
        "X_linear.shape"
      ],
      "metadata": {
        "colab": {
          "base_uri": "https://localhost:8080/"
        },
        "id": "aYzIJTXvilDX",
        "outputId": "fb59b792-727f-4830-8682-7717b0034241"
      },
      "execution_count": null,
      "outputs": [
        {
          "output_type": "execute_result",
          "data": {
            "text/plain": [
              "(20, 6)"
            ]
          },
          "metadata": {},
          "execution_count": 15
        }
      ]
    },
    {
      "cell_type": "code",
      "source": [
        "def weights(x,y):\n",
        "  from numpy.linalg import inv\n",
        "  left=inv(x.T.dot(x))\n",
        "  rgt=x.T.dot(y)\n",
        "  return left.dot(rgt)"
      ],
      "metadata": {
        "id": "07Zvy-XPa_0s"
      },
      "execution_count": null,
      "outputs": []
    },
    {
      "cell_type": "code",
      "source": [
        "weights_linear=weights(X_linear,Y)\n",
        "weights_linear"
      ],
      "metadata": {
        "colab": {
          "base_uri": "https://localhost:8080/"
        },
        "id": "dLN3UyH_baH1",
        "outputId": "c445631a-a7a9-4d2d-bf61-b85e66c0d6b6"
      },
      "execution_count": null,
      "outputs": [
        {
          "output_type": "execute_result",
          "data": {
            "text/plain": [
              "array([[2.21916707e-10],\n",
              "       [3.41060513e-13],\n",
              "       [5.00000000e-01],\n",
              "       [2.00000000e-01],\n",
              "       [2.00000000e-01],\n",
              "       [1.00000000e-01]])"
            ]
          },
          "metadata": {},
          "execution_count": 17
        }
      ]
    },
    {
      "cell_type": "code",
      "source": [
        "weights_linear.shape"
      ],
      "metadata": {
        "colab": {
          "base_uri": "https://localhost:8080/"
        },
        "id": "69GE9MWrbhs6",
        "outputId": "a7f639fd-f71e-41fc-b74e-5178f98b7cf7"
      },
      "execution_count": null,
      "outputs": [
        {
          "output_type": "execute_result",
          "data": {
            "text/plain": [
              "(6, 1)"
            ]
          },
          "metadata": {},
          "execution_count": 18
        }
      ]
    },
    {
      "cell_type": "code",
      "source": [
        "def predict(x,w):\n",
        "  return x.dot(w)"
      ],
      "metadata": {
        "id": "ktbdUbn0cCCX"
      },
      "execution_count": null,
      "outputs": []
    },
    {
      "cell_type": "code",
      "source": [
        "ycap_predict_linear=predict(X_linear,weights_linear)\n",
        "ycap_predict_linear"
      ],
      "metadata": {
        "colab": {
          "base_uri": "https://localhost:8080/"
        },
        "id": "8N4kXi1Jbs_q",
        "outputId": "71d417b8-cf99-4856-f245-720a321ec405"
      },
      "execution_count": null,
      "outputs": [
        {
          "output_type": "execute_result",
          "data": {
            "text/plain": [
              "array([[73.15],\n",
              "       [80.05],\n",
              "       [64.25],\n",
              "       [84.1 ],\n",
              "       [79.7 ],\n",
              "       [61.35],\n",
              "       [71.85],\n",
              "       [76.45],\n",
              "       [66.45],\n",
              "       [82.55],\n",
              "       [72.9 ],\n",
              "       [76.2 ],\n",
              "       [67.25],\n",
              "       [79.05],\n",
              "       [71.3 ],\n",
              "       [84.95],\n",
              "       [68.6 ],\n",
              "       [77.75],\n",
              "       [68.15],\n",
              "       [80.7 ]])"
            ]
          },
          "metadata": {},
          "execution_count": 20
        }
      ]
    },
    {
      "cell_type": "code",
      "source": [
        "ycap_predict_linear.shape"
      ],
      "metadata": {
        "colab": {
          "base_uri": "https://localhost:8080/"
        },
        "id": "Z_gCv_8dieIJ",
        "outputId": "f2528478-52d3-4e52-a93f-68fc0ba01e70"
      },
      "execution_count": null,
      "outputs": [
        {
          "output_type": "execute_result",
          "data": {
            "text/plain": [
              "(20, 1)"
            ]
          },
          "metadata": {},
          "execution_count": 21
        }
      ]
    },
    {
      "cell_type": "code",
      "source": [
        "def square(y,ycap):\n",
        "  rss=((y-ycap)**2).sum()\n",
        "  tss=((y-y.mean()**2)).sum()\n",
        "  return 1-(rss/tss)"
      ],
      "metadata": {
        "id": "8FTcbBV7c1Pi"
      },
      "execution_count": null,
      "outputs": []
    },
    {
      "cell_type": "code",
      "source": [
        "accurancy_linear=square(Y,ycap_predict_linear)*100\n",
        "accurancy_linear\n"
      ],
      "metadata": {
        "colab": {
          "base_uri": "https://localhost:8080/"
        },
        "id": "ikCR-tL_cqc3",
        "outputId": "e09a0846-864b-44ca-b68a-81670d9d049b"
      },
      "execution_count": null,
      "outputs": [
        {
          "output_type": "execute_result",
          "data": {
            "text/plain": [
              "np.float64(100.0)"
            ]
          },
          "metadata": {},
          "execution_count": 23
        }
      ]
    },
    {
      "cell_type": "code",
      "source": [
        "#non linear poly degree 2\n",
        "age2=age**2\n",
        "bmi2=bmi**2\n",
        "bp2=bp**2\n",
        "gl2=gl**2\n",
        "il2=il**2\n",
        "X_poly2 = np.c_[ones, age, age2, bmi, bmi2, bp, bp2, gl, gl2, il, il2]\n",
        "X_poly2.shape"
      ],
      "metadata": {
        "colab": {
          "base_uri": "https://localhost:8080/"
        },
        "id": "sqlbA69AeAqF",
        "outputId": "35589f99-c5b2-4121-febf-171f3ac54ebd"
      },
      "execution_count": null,
      "outputs": [
        {
          "output_type": "execute_result",
          "data": {
            "text/plain": [
              "(20, 11)"
            ]
          },
          "metadata": {},
          "execution_count": 24
        }
      ]
    },
    {
      "cell_type": "code",
      "source": [
        "w_poly2=weights(X_poly2,Y)\n",
        "w_poly2"
      ],
      "metadata": {
        "colab": {
          "base_uri": "https://localhost:8080/"
        },
        "id": "3-S49RsDe1EA",
        "outputId": "cf595c4f-86bc-4aa9-e957-d85957f91536"
      },
      "execution_count": null,
      "outputs": [
        {
          "output_type": "execute_result",
          "data": {
            "text/plain": [
              "array([[ 5.96046448e-08],\n",
              "       [-5.47515810e-09],\n",
              "       [ 6.36646291e-11],\n",
              "       [ 5.00000039e-01],\n",
              "       [-7.95353117e-10],\n",
              "       [ 1.99999993e-01],\n",
              "       [ 2.88764568e-11],\n",
              "       [ 2.00000000e-01],\n",
              "       [-2.84217094e-13],\n",
              "       [ 9.99999999e-02],\n",
              "       [ 0.00000000e+00]])"
            ]
          },
          "metadata": {},
          "execution_count": 26
        }
      ]
    },
    {
      "cell_type": "code",
      "source": [
        "w_poly2.shape"
      ],
      "metadata": {
        "colab": {
          "base_uri": "https://localhost:8080/"
        },
        "id": "yrypin1IfE4l",
        "outputId": "80fefc25-eaff-4693-e5f9-078c77d21f1e"
      },
      "execution_count": null,
      "outputs": [
        {
          "output_type": "execute_result",
          "data": {
            "text/plain": [
              "(11, 1)"
            ]
          },
          "metadata": {},
          "execution_count": 27
        }
      ]
    },
    {
      "cell_type": "code",
      "source": [
        "ycap_poly2=predict(X_poly2,w_poly2)\n",
        "ycap_poly2"
      ],
      "metadata": {
        "colab": {
          "base_uri": "https://localhost:8080/"
        },
        "id": "hFYHN0PlfINr",
        "outputId": "6a9c0b6d-91a4-422f-ce1b-25bcc7a8611d"
      },
      "execution_count": null,
      "outputs": [
        {
          "output_type": "execute_result",
          "data": {
            "text/plain": [
              "array([[73.14999999],\n",
              "       [80.04999998],\n",
              "       [64.24999999],\n",
              "       [84.09999998],\n",
              "       [79.69999998],\n",
              "       [61.35      ],\n",
              "       [71.84999999],\n",
              "       [76.44999999],\n",
              "       [66.45      ],\n",
              "       [82.54999998],\n",
              "       [72.89999999],\n",
              "       [76.19999999],\n",
              "       [67.25      ],\n",
              "       [79.04999998],\n",
              "       [71.29999999],\n",
              "       [84.94999998],\n",
              "       [68.59999999],\n",
              "       [77.74999999],\n",
              "       [68.14999999],\n",
              "       [80.69999998]])"
            ]
          },
          "metadata": {},
          "execution_count": 28
        }
      ]
    },
    {
      "cell_type": "code",
      "source": [
        "ycap_poly2.shape"
      ],
      "metadata": {
        "colab": {
          "base_uri": "https://localhost:8080/"
        },
        "id": "9B2f9GtJh27f",
        "outputId": "87fcfdae-f9d7-4612-badc-5bfd30b4b603"
      },
      "execution_count": null,
      "outputs": [
        {
          "output_type": "execute_result",
          "data": {
            "text/plain": [
              "(20, 1)"
            ]
          },
          "metadata": {},
          "execution_count": 29
        }
      ]
    },
    {
      "cell_type": "code",
      "source": [
        "accuaracy_poly2=square(Y,ycap_poly2)*100\n",
        "accuaracy_poly2"
      ],
      "metadata": {
        "colab": {
          "base_uri": "https://localhost:8080/"
        },
        "id": "K27RrNxBfybU",
        "outputId": "dddbf9e0-beea-497c-f292-ed8d5d18ba07"
      },
      "execution_count": null,
      "outputs": [
        {
          "output_type": "execute_result",
          "data": {
            "text/plain": [
              "np.float64(100.0)"
            ]
          },
          "metadata": {},
          "execution_count": 30
        }
      ]
    },
    {
      "cell_type": "code",
      "source": [
        "# experiment with poly degree 3\n",
        "age3 = age**3\n",
        "bmi3 = bmi**3\n",
        "bp3 = bp**3\n",
        "gl3 = gl**3\n",
        "il3 = il**3\n",
        "X_poly3 = np.c_[ones, age, age2, age3, bmi, bmi2, bmi3, bp, bp2, bp3,\n",
        "                gl, gl2, gl3, il, il2, il3]\n",
        "X_poly3.shape"
      ],
      "metadata": {
        "colab": {
          "base_uri": "https://localhost:8080/"
        },
        "id": "r3dW0CuUgGcQ",
        "outputId": "7d6387e4-2c7c-4f4c-95cf-5e9b5b525e43"
      },
      "execution_count": null,
      "outputs": [
        {
          "output_type": "execute_result",
          "data": {
            "text/plain": [
              "(20, 16)"
            ]
          },
          "metadata": {},
          "execution_count": 31
        }
      ]
    },
    {
      "cell_type": "code",
      "source": [
        "w_poly3=weights(X_poly3,Y)\n",
        "w_poly3"
      ],
      "metadata": {
        "colab": {
          "base_uri": "https://localhost:8080/"
        },
        "id": "m5QBHjXchRXq",
        "outputId": "81d2eb19-b19e-49db-f815-669224b47bac"
      },
      "execution_count": null,
      "outputs": [
        {
          "output_type": "execute_result",
          "data": {
            "text/plain": [
              "array([[ 3.27148438e-02],\n",
              "       [-1.15633011e-04],\n",
              "       [ 2.53692269e-06],\n",
              "       [-1.81898940e-08],\n",
              "       [ 4.98292923e-01],\n",
              "       [ 6.48498535e-05],\n",
              "       [-8.14441592e-07],\n",
              "       [ 1.99634552e-01],\n",
              "       [ 2.86102295e-06],\n",
              "       [-7.50878826e-09],\n",
              "       [ 1.99989200e-01],\n",
              "       [ 8.10250640e-08],\n",
              "       [-2.00088834e-10],\n",
              "       [ 1.00000381e-01],\n",
              "       [-1.49011612e-08],\n",
              "       [ 5.82076609e-11]])"
            ]
          },
          "metadata": {},
          "execution_count": 32
        }
      ]
    },
    {
      "cell_type": "code",
      "source": [
        "w_poly3.shape"
      ],
      "metadata": {
        "colab": {
          "base_uri": "https://localhost:8080/"
        },
        "id": "4i2To3TjhgVD",
        "outputId": "039ce01b-c481-4386-9fca-d166e0fcf15f"
      },
      "execution_count": null,
      "outputs": [
        {
          "output_type": "execute_result",
          "data": {
            "text/plain": [
              "(16, 1)"
            ]
          },
          "metadata": {},
          "execution_count": 33
        }
      ]
    },
    {
      "cell_type": "code",
      "source": [
        "ycap_pol3=predict(X_poly3,w_poly3)\n",
        "ycap_pol3"
      ],
      "metadata": {
        "colab": {
          "base_uri": "https://localhost:8080/"
        },
        "id": "mDNACQOHhi35",
        "outputId": "bea33771-1191-48b2-f72e-5521f826b92c"
      },
      "execution_count": null,
      "outputs": [
        {
          "output_type": "execute_result",
          "data": {
            "text/plain": [
              "array([[73.14997977],\n",
              "       [80.0499979 ],\n",
              "       [64.24999926],\n",
              "       [84.09992224],\n",
              "       [79.70000079],\n",
              "       [61.35008178],\n",
              "       [71.85000068],\n",
              "       [76.44999788],\n",
              "       [66.4500143 ],\n",
              "       [82.54996796],\n",
              "       [72.89997871],\n",
              "       [76.19999034],\n",
              "       [67.25000869],\n",
              "       [79.05000527],\n",
              "       [71.29998745],\n",
              "       [84.94989601],\n",
              "       [68.59998422],\n",
              "       [77.7499923 ],\n",
              "       [68.14999001],\n",
              "       [80.6999882 ]])"
            ]
          },
          "metadata": {},
          "execution_count": 34
        }
      ]
    },
    {
      "cell_type": "code",
      "source": [
        "ycap_pol3.shape"
      ],
      "metadata": {
        "colab": {
          "base_uri": "https://localhost:8080/"
        },
        "id": "iZkMW8knhvG0",
        "outputId": "0f34e83f-aa94-4a7b-dbd3-ba8f5b56b8bb"
      },
      "execution_count": null,
      "outputs": [
        {
          "output_type": "execute_result",
          "data": {
            "text/plain": [
              "(20, 1)"
            ]
          },
          "metadata": {},
          "execution_count": 35
        }
      ]
    },
    {
      "cell_type": "code",
      "source": [
        "accuarcy_pol3=square(Y,ycap_pol3)*100\n",
        "accuarcy_pol3"
      ],
      "metadata": {
        "colab": {
          "base_uri": "https://localhost:8080/"
        },
        "id": "R3eL3IcziJiF",
        "outputId": "061df6a9-6542-439a-d563-b0eb6437c205"
      },
      "execution_count": null,
      "outputs": [
        {
          "output_type": "execute_result",
          "data": {
            "text/plain": [
              "np.float64(100.00000000002436)"
            ]
          },
          "metadata": {},
          "execution_count": 38
        }
      ]
    }
  ]
}