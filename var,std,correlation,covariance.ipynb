{
  "cells": [
    {
      "cell_type": "markdown",
      "metadata": {
        "id": "view-in-github",
        "colab_type": "text"
      },
      "source": [
        "<a href=\"https://colab.research.google.com/github/rakshithasetty41/statistics/blob/main/var%2Cstd%2Ccorrelation%2Ccovariance.ipynb\" target=\"_parent\"><img src=\"https://colab.research.google.com/assets/colab-badge.svg\" alt=\"Open In Colab\"/></a>"
      ]
    },
    {
      "cell_type": "code",
      "execution_count": null,
      "metadata": {
        "id": "xUwUX9HmNGQZ"
      },
      "outputs": [],
      "source": [
        "import numpy as np"
      ]
    },
    {
      "cell_type": "code",
      "execution_count": null,
      "metadata": {
        "id": "HsmR9W5KNaT8"
      },
      "outputs": [],
      "source": [
        "A=np.array([[10,20],[20,40],[40,50]])"
      ]
    },
    {
      "cell_type": "code",
      "execution_count": null,
      "metadata": {
        "colab": {
          "base_uri": "https://localhost:8080/"
        },
        "id": "f7SyYtxRN1bd",
        "outputId": "f40132eb-e918-4d68-fa3c-51a0c31de773"
      },
      "outputs": [
        {
          "data": {
            "text/plain": [
              "(3, 2)"
            ]
          },
          "execution_count": 4,
          "metadata": {},
          "output_type": "execute_result"
        }
      ],
      "source": [
        "A.shape"
      ]
    },
    {
      "cell_type": "code",
      "execution_count": null,
      "metadata": {
        "id": "YzQYAsbRN3ZA"
      },
      "outputs": [],
      "source": [
        "B=np.array([[10,100],[1,3],[4,6]])"
      ]
    },
    {
      "cell_type": "code",
      "execution_count": null,
      "metadata": {
        "colab": {
          "base_uri": "https://localhost:8080/"
        },
        "id": "pmfXIKAWOByF",
        "outputId": "e812596c-d4bb-4f38-e3ad-376a1e06638c"
      },
      "outputs": [
        {
          "data": {
            "text/plain": [
              "(3, 2)"
            ]
          },
          "execution_count": 7,
          "metadata": {},
          "output_type": "execute_result"
        }
      ],
      "source": [
        "B.shape"
      ]
    },
    {
      "cell_type": "code",
      "execution_count": null,
      "metadata": {
        "colab": {
          "base_uri": "https://localhost:8080/"
        },
        "id": "HJ9ZIlvpOFQ4",
        "outputId": "c6331cb0-93ff-410a-f1b3-2bb82a223916"
      },
      "outputs": [
        {
          "data": {
            "text/plain": [
              "array([[ 20, 120],\n",
              "       [ 21,  43],\n",
              "       [ 44,  56]])"
            ]
          },
          "execution_count": 10,
          "metadata": {},
          "output_type": "execute_result"
        }
      ],
      "source": [
        "c=A+B\n",
        "c"
      ]
    },
    {
      "cell_type": "code",
      "execution_count": null,
      "metadata": {
        "colab": {
          "base_uri": "https://localhost:8080/"
        },
        "id": "uVuTvHu7OHdk",
        "outputId": "f8aa9c35-12ab-4db4-8b6d-50ca0a2d6592"
      },
      "outputs": [
        {
          "data": {
            "text/plain": [
              "array([[ 100, 2000],\n",
              "       [  20,  120],\n",
              "       [ 160,  300]])"
            ]
          },
          "execution_count": 11,
          "metadata": {},
          "output_type": "execute_result"
        }
      ],
      "source": [
        "D=A*B\n",
        "D"
      ]
    },
    {
      "cell_type": "code",
      "execution_count": null,
      "metadata": {
        "colab": {
          "base_uri": "https://localhost:8080/"
        },
        "id": "y1vRSCknOT64",
        "outputId": "41bc43cf-716a-48c4-c133-d86b24ea0387"
      },
      "outputs": [
        {
          "data": {
            "text/plain": [
              "array([[10, 20, 40],\n",
              "       [20, 40, 50]])"
            ]
          },
          "execution_count": 12,
          "metadata": {},
          "output_type": "execute_result"
        }
      ],
      "source": [
        "At=np.transpose(A)\n",
        "At"
      ]
    },
    {
      "cell_type": "code",
      "execution_count": null,
      "metadata": {
        "colab": {
          "base_uri": "https://localhost:8080/"
        },
        "id": "76F4mp7IOcAG",
        "outputId": "ba98c0fb-a4e5-4186-8dc7-8c97eb4ad094"
      },
      "outputs": [
        {
          "data": {
            "text/plain": [
              "array([[2, 5],\n",
              "       [3, 6]])"
            ]
          },
          "execution_count": 14,
          "metadata": {},
          "output_type": "execute_result"
        }
      ],
      "source": [
        "c=np.array([[2,5],[3,6]])\n",
        "c"
      ]
    },
    {
      "cell_type": "code",
      "execution_count": null,
      "metadata": {
        "colab": {
          "base_uri": "https://localhost:8080/"
        },
        "id": "n_z-umo5OmYj",
        "outputId": "bac05652-83d9-44dd-da13-9df396ee26fb"
      },
      "outputs": [
        {
          "data": {
            "text/plain": [
              "(2, 2)"
            ]
          },
          "execution_count": 15,
          "metadata": {},
          "output_type": "execute_result"
        }
      ],
      "source": [
        "c.shape"
      ]
    },
    {
      "cell_type": "code",
      "execution_count": null,
      "metadata": {
        "colab": {
          "base_uri": "https://localhost:8080/"
        },
        "id": "Ri9Kr5RHOoWL",
        "outputId": "58b78c4e-8f47-4ed2-8e4b-395aef50f92a"
      },
      "outputs": [
        {
          "data": {
            "text/plain": [
              "array([[10, 20],\n",
              "       [20, 40],\n",
              "       [40, 50]])"
            ]
          },
          "execution_count": 16,
          "metadata": {},
          "output_type": "execute_result"
        }
      ],
      "source": [
        "A"
      ]
    },
    {
      "cell_type": "code",
      "execution_count": null,
      "metadata": {
        "colab": {
          "base_uri": "https://localhost:8080/"
        },
        "id": "z55Gr5BiOoZc",
        "outputId": "eef05cf4-7e68-47d9-a8f1-644a30e61765"
      },
      "outputs": [
        {
          "data": {
            "text/plain": [
              "(3, 2)"
            ]
          },
          "execution_count": 18,
          "metadata": {},
          "output_type": "execute_result"
        }
      ],
      "source": [
        "A.shape\n"
      ]
    },
    {
      "cell_type": "code",
      "execution_count": null,
      "metadata": {
        "colab": {
          "base_uri": "https://localhost:8080/"
        },
        "id": "PFELNY21OtXF",
        "outputId": "27d27be1-b2e8-431e-df25-0d5e7474e106"
      },
      "outputs": [
        {
          "data": {
            "text/plain": [
              "array([[ 80, 170],\n",
              "       [160, 340],\n",
              "       [230, 500]])"
            ]
          },
          "execution_count": 19,
          "metadata": {},
          "output_type": "execute_result"
        }
      ],
      "source": [
        "m=A.dot(c)\n",
        "m"
      ]
    },
    {
      "cell_type": "code",
      "execution_count": null,
      "metadata": {
        "colab": {
          "base_uri": "https://localhost:8080/"
        },
        "id": "jxuEjr6sPAae",
        "outputId": "21a0fff9-1505-4395-da54-cfc69523c892"
      },
      "outputs": [
        {
          "data": {
            "text/plain": [
              "array([[ 500, 1000, 1400],\n",
              "       [1000, 2000, 2800],\n",
              "       [1400, 2800, 4100]])"
            ]
          },
          "execution_count": 21,
          "metadata": {},
          "output_type": "execute_result"
        }
      ],
      "source": [
        "m=A.dot(At)\n",
        "m"
      ]
    },
    {
      "cell_type": "code",
      "execution_count": null,
      "metadata": {
        "colab": {
          "base_uri": "https://localhost:8080/"
        },
        "id": "stPLKznEPHXA",
        "outputId": "7dc76a83-6025-49f2-9006-c0c1d75c75be"
      },
      "outputs": [
        {
          "data": {
            "text/plain": [
              "array([[2100, 3000],\n",
              "       [3000, 4500]])"
            ]
          },
          "execution_count": 22,
          "metadata": {},
          "output_type": "execute_result"
        }
      ],
      "source": [
        "m=At.dot(A)\n",
        "m"
      ]
    },
    {
      "cell_type": "code",
      "execution_count": null,
      "metadata": {
        "colab": {
          "base_uri": "https://localhost:8080/"
        },
        "id": "v2luPTvEPPVi",
        "outputId": "cd459d90-ec7c-415e-d6ed-2a386ba622aa"
      },
      "outputs": [
        {
          "data": {
            "text/plain": [
              "array([[ 0.01      , -0.00666667],\n",
              "       [-0.00666667,  0.00466667]])"
            ]
          },
          "execution_count": 23,
          "metadata": {},
          "output_type": "execute_result"
        }
      ],
      "source": [
        "from numpy.linalg import inv\n",
        "M=inv(m)\n",
        "M"
      ]
    },
    {
      "cell_type": "code",
      "execution_count": null,
      "metadata": {
        "colab": {
          "base_uri": "https://localhost:8080/"
        },
        "id": "1MXWjDHGPagU",
        "outputId": "56ba074b-e948-4490-f9b7-1b7055e2f57b"
      },
      "outputs": [
        {
          "data": {
            "text/plain": [
              "array([10, 20, 20, 40, 40, 50])"
            ]
          },
          "execution_count": 26,
          "metadata": {},
          "output_type": "execute_result"
        }
      ],
      "source": [
        "a=A.ravel()#convert of 2d or nd into a single dimension\n",
        "a"
      ]
    },
    {
      "cell_type": "code",
      "execution_count": null,
      "metadata": {
        "colab": {
          "base_uri": "https://localhost:8080/"
        },
        "id": "6QainXJtPzb3",
        "outputId": "21c4051e-535e-45e0-8f92-18106d537355"
      },
      "outputs": [
        {
          "data": {
            "text/plain": [
              "np.int64(180)"
            ]
          },
          "execution_count": 27,
          "metadata": {},
          "output_type": "execute_result"
        }
      ],
      "source": [
        "#python methods\n",
        "sum(a)"
      ]
    },
    {
      "cell_type": "code",
      "execution_count": null,
      "metadata": {
        "colab": {
          "base_uri": "https://localhost:8080/"
        },
        "id": "8cuQiePsP1eO",
        "outputId": "3adfdceb-ec25-4294-a8cd-fac8716b8528"
      },
      "outputs": [
        {
          "data": {
            "text/plain": [
              "6"
            ]
          },
          "execution_count": 28,
          "metadata": {},
          "output_type": "execute_result"
        }
      ],
      "source": [
        "len(a)"
      ]
    },
    {
      "cell_type": "code",
      "execution_count": null,
      "metadata": {
        "colab": {
          "base_uri": "https://localhost:8080/"
        },
        "id": "Rk5kPA90P4Wq",
        "outputId": "a2264124-2131-4033-a7bf-c7096d659c77"
      },
      "outputs": [
        {
          "data": {
            "text/plain": [
              "np.int64(50)"
            ]
          },
          "execution_count": 29,
          "metadata": {},
          "output_type": "execute_result"
        }
      ],
      "source": [
        "max(a)"
      ]
    },
    {
      "cell_type": "code",
      "execution_count": null,
      "metadata": {
        "colab": {
          "base_uri": "https://localhost:8080/"
        },
        "id": "IMfHqk1wP2ol",
        "outputId": "af9fa1e8-de17-4271-800f-8e4f9b7ae68a"
      },
      "outputs": [
        {
          "data": {
            "text/plain": [
              "np.int64(10)"
            ]
          },
          "execution_count": 30,
          "metadata": {},
          "output_type": "execute_result"
        }
      ],
      "source": [
        "min(a)"
      ]
    },
    {
      "cell_type": "code",
      "execution_count": null,
      "metadata": {
        "colab": {
          "base_uri": "https://localhost:8080/"
        },
        "id": "7886CdifQDBb",
        "outputId": "b43f5b11-6e1e-4395-c55c-b2b4190e458b"
      },
      "outputs": [
        {
          "data": {
            "text/plain": [
              "np.float64(30.0)"
            ]
          },
          "execution_count": 31,
          "metadata": {},
          "output_type": "execute_result"
        }
      ],
      "source": [
        "sum(a)/len(a)"
      ]
    },
    {
      "cell_type": "code",
      "execution_count": null,
      "metadata": {
        "colab": {
          "base_uri": "https://localhost:8080/"
        },
        "id": "P63mzyDmQIlq",
        "outputId": "c5e4a963-3c35-49f8-c99f-da9e1c4a1ec6"
      },
      "outputs": [
        {
          "data": {
            "text/plain": [
              "np.int64(180)"
            ]
          },
          "execution_count": 34,
          "metadata": {},
          "output_type": "execute_result"
        }
      ],
      "source": [
        "#numpy methods\n",
        "a.sum()"
      ]
    },
    {
      "cell_type": "code",
      "execution_count": null,
      "metadata": {
        "colab": {
          "base_uri": "https://localhost:8080/"
        },
        "id": "2nXuyvAaQQWM",
        "outputId": "a21fd523-0c24-48e0-b086-eab462ad73eb"
      },
      "outputs": [
        {
          "data": {
            "text/plain": [
              "6"
            ]
          },
          "execution_count": 36,
          "metadata": {},
          "output_type": "execute_result"
        }
      ],
      "source": [
        "a.size"
      ]
    },
    {
      "cell_type": "code",
      "execution_count": null,
      "metadata": {
        "colab": {
          "base_uri": "https://localhost:8080/"
        },
        "id": "jgnbE_C3QR52",
        "outputId": "d671b8f5-cc74-487f-9bbc-bede51ed7403"
      },
      "outputs": [
        {
          "data": {
            "text/plain": [
              "np.float64(30.0)"
            ]
          },
          "execution_count": 37,
          "metadata": {},
          "output_type": "execute_result"
        }
      ],
      "source": [
        "a.mean()"
      ]
    },
    {
      "cell_type": "code",
      "execution_count": null,
      "metadata": {
        "colab": {
          "base_uri": "https://localhost:8080/"
        },
        "id": "Ju1O0my3QW5M",
        "outputId": "456d905e-901c-41b9-b8ab-cf27a2da4b28"
      },
      "outputs": [
        {
          "data": {
            "text/plain": [
              "np.int64(50)"
            ]
          },
          "execution_count": 38,
          "metadata": {},
          "output_type": "execute_result"
        }
      ],
      "source": [
        "a.max()"
      ]
    },
    {
      "cell_type": "code",
      "execution_count": null,
      "metadata": {
        "colab": {
          "base_uri": "https://localhost:8080/"
        },
        "id": "a8XIj_qQQZT2",
        "outputId": "63e280c8-0ab1-4d9b-ad6c-a29196825742"
      },
      "outputs": [
        {
          "data": {
            "text/plain": [
              "array([40, 50])"
            ]
          },
          "execution_count": 40,
          "metadata": {},
          "output_type": "execute_result"
        }
      ],
      "source": [
        "A.max(axis=0)#in columns it will give a max"
      ]
    },
    {
      "cell_type": "code",
      "execution_count": null,
      "metadata": {
        "colab": {
          "base_uri": "https://localhost:8080/"
        },
        "id": "WcaZJzvjQmHH",
        "outputId": "20dbbcd8-56a8-40b1-d45d-e5e0d5f65f30"
      },
      "outputs": [
        {
          "data": {
            "text/plain": [
              "array([20, 40, 50])"
            ]
          },
          "execution_count": 41,
          "metadata": {},
          "output_type": "execute_result"
        }
      ],
      "source": [
        "A.max(axis=1)#in rows it willl give a max"
      ]
    },
    {
      "cell_type": "code",
      "execution_count": null,
      "metadata": {
        "colab": {
          "base_uri": "https://localhost:8080/"
        },
        "id": "KW27UxwLQr2w",
        "outputId": "48a75728-e718-471f-d579-2a5b1c859f7b"
      },
      "outputs": [
        {
          "data": {
            "text/plain": [
              "np.int64(10)"
            ]
          },
          "execution_count": 42,
          "metadata": {},
          "output_type": "execute_result"
        }
      ],
      "source": [
        "a.min()"
      ]
    },
    {
      "cell_type": "code",
      "execution_count": null,
      "metadata": {
        "colab": {
          "base_uri": "https://localhost:8080/"
        },
        "id": "GfcEC5dUQt1x",
        "outputId": "fb4e4694-6a35-4f27-ec7a-6bfb100cc657"
      },
      "outputs": [
        {
          "data": {
            "text/plain": [
              "array([10, 20])"
            ]
          },
          "execution_count": 43,
          "metadata": {},
          "output_type": "execute_result"
        }
      ],
      "source": [
        "  A.min(axis=0)"
      ]
    },
    {
      "cell_type": "code",
      "execution_count": null,
      "metadata": {
        "colab": {
          "base_uri": "https://localhost:8080/"
        },
        "id": "DD8RTD9NQxJX",
        "outputId": "0729b430-02b1-4859-aaab-50e8daa2bec3"
      },
      "outputs": [
        {
          "data": {
            "text/plain": [
              "array([10, 20, 40])"
            ]
          },
          "execution_count": 44,
          "metadata": {},
          "output_type": "execute_result"
        }
      ],
      "source": [
        "A.min(axis=1)"
      ]
    },
    {
      "cell_type": "code",
      "execution_count": null,
      "metadata": {
        "colab": {
          "base_uri": "https://localhost:8080/"
        },
        "id": "pwMfqBOlQ0JV",
        "outputId": "ca0a454e-2cca-464f-b552-1066702b60a3"
      },
      "outputs": [
        {
          "data": {
            "text/plain": [
              "array([23.33333333, 36.66666667])"
            ]
          },
          "execution_count": 45,
          "metadata": {},
          "output_type": "execute_result"
        }
      ],
      "source": [
        "A.mean(axis=0)"
      ]
    },
    {
      "cell_type": "code",
      "execution_count": null,
      "metadata": {
        "colab": {
          "base_uri": "https://localhost:8080/"
        },
        "id": "ee8nPLzFQ2vS",
        "outputId": "8d0b754c-e005-4f6d-c34a-d76db4743339"
      },
      "outputs": [
        {
          "data": {
            "text/plain": [
              "array([15., 30., 45.])"
            ]
          },
          "execution_count": 46,
          "metadata": {},
          "output_type": "execute_result"
        }
      ],
      "source": [
        "A.mean(axis=1)\n"
      ]
    },
    {
      "cell_type": "code",
      "execution_count": null,
      "metadata": {
        "colab": {
          "base_uri": "https://localhost:8080/"
        },
        "id": "nBzS17UiQ5nw",
        "outputId": "95fd798c-9995-448a-9e0a-acb2c46f50ce"
      },
      "outputs": [
        {
          "data": {
            "text/plain": [
              "array([ 70, 110])"
            ]
          },
          "execution_count": 47,
          "metadata": {},
          "output_type": "execute_result"
        }
      ],
      "source": [
        "A.sum(axis=0)"
      ]
    },
    {
      "cell_type": "code",
      "execution_count": null,
      "metadata": {
        "colab": {
          "base_uri": "https://localhost:8080/"
        },
        "id": "ShZa_-0oQ9dj",
        "outputId": "73ff3ab6-153e-459b-8917-75845b61cf3a"
      },
      "outputs": [
        {
          "data": {
            "text/plain": [
              "array([30, 60, 90])"
            ]
          },
          "execution_count": 48,
          "metadata": {},
          "output_type": "execute_result"
        }
      ],
      "source": [
        "A.sum(axis=1)"
      ]
    },
    {
      "cell_type": "code",
      "execution_count": null,
      "metadata": {
        "id": "4Zd2kxEdRA9-"
      },
      "outputs": [],
      "source": [
        "#artithemetic mean\n",
        "def amean(x):\n",
        "  return sum(x)/len(x)"
      ]
    },
    {
      "cell_type": "code",
      "execution_count": null,
      "metadata": {
        "colab": {
          "base_uri": "https://localhost:8080/"
        },
        "id": "X_t1cuOORKii",
        "outputId": "4b298803-ac4f-4d5a-a6af-c2e686461bb2"
      },
      "outputs": [
        {
          "data": {
            "text/plain": [
              "np.float64(30.0)"
            ]
          },
          "execution_count": 50,
          "metadata": {},
          "output_type": "execute_result"
        }
      ],
      "source": [
        "amean(a)"
      ]
    },
    {
      "cell_type": "code",
      "execution_count": null,
      "metadata": {
        "id": "99Jqz6-WRMbq"
      },
      "outputs": [],
      "source": [
        "#gemoetric mean\n",
        "def gmean(x):\n",
        "\n",
        "  return x.prod()**(1/x.size)"
      ]
    },
    {
      "cell_type": "code",
      "execution_count": null,
      "metadata": {
        "colab": {
          "base_uri": "https://localhost:8080/"
        },
        "id": "OtDG3T6bRtGI",
        "outputId": "bfc0109d-94a4-495b-b9b3-8aacaf808750"
      },
      "outputs": [
        {
          "data": {
            "text/plain": [
              "np.float64(26.153209720236607)"
            ]
          },
          "execution_count": 62,
          "metadata": {},
          "output_type": "execute_result"
        }
      ],
      "source": [
        "gmean(a)"
      ]
    },
    {
      "cell_type": "code",
      "execution_count": null,
      "metadata": {
        "id": "Rw7KLeFBSDfZ"
      },
      "outputs": [],
      "source": [
        "def hmean(x):\n",
        "  return x.size/sum(1/x)"
      ]
    },
    {
      "cell_type": "code",
      "execution_count": null,
      "metadata": {
        "colab": {
          "base_uri": "https://localhost:8080/"
        },
        "id": "WwtB3rfWSkFt",
        "outputId": "409f960a-203b-4e04-f79b-6d8b898188c0"
      },
      "outputs": [
        {
          "data": {
            "text/plain": [
              "np.float64(22.22222222222222)"
            ]
          },
          "execution_count": 64,
          "metadata": {},
          "output_type": "execute_result"
        }
      ],
      "source": [
        "hmean(a)"
      ]
    },
    {
      "cell_type": "code",
      "execution_count": null,
      "metadata": {
        "id": "2vUN4vbQSmft"
      },
      "outputs": [],
      "source": [
        "def mean(x):\n",
        "  am=amean(x)\n",
        "  gm=gmean(x)\n",
        "  hm=hmean(x)\n",
        "  return (int(am),int(gm),int(hm))"
      ]
    },
    {
      "cell_type": "code",
      "execution_count": null,
      "metadata": {
        "colab": {
          "base_uri": "https://localhost:8080/"
        },
        "id": "nwFvlLRES4Jr",
        "outputId": "c8fbb966-d1e1-476e-9a2c-1c4b2e542ed7"
      },
      "outputs": [
        {
          "data": {
            "text/plain": [
              "(30, 26, 22)"
            ]
          },
          "execution_count": 68,
          "metadata": {},
          "output_type": "execute_result"
        }
      ],
      "source": [
        "mean(a)"
      ]
    },
    {
      "cell_type": "code",
      "execution_count": null,
      "metadata": {
        "id": "bVIc-NdtTBAJ"
      },
      "outputs": [],
      "source": [
        "#variance\n",
        "def varpop(x):\n",
        "  mx=x.mean()\n",
        "  dx=sum((x-mx)**2)\n",
        "  den=x.size\n",
        "  return dx/den"
      ]
    },
    {
      "cell_type": "code",
      "execution_count": null,
      "metadata": {
        "colab": {
          "base_uri": "https://localhost:8080/"
        },
        "id": "rGrx3muaTrjl",
        "outputId": "e715f865-d2d5-4341-c807-e2066d448521"
      },
      "outputs": [
        {
          "data": {
            "text/plain": [
              "np.float64(200.0)"
            ]
          },
          "execution_count": 74,
          "metadata": {},
          "output_type": "execute_result"
        }
      ],
      "source": [
        "varpop(a)"
      ]
    },
    {
      "cell_type": "code",
      "execution_count": null,
      "metadata": {
        "id": "zX9dAROpTuc2"
      },
      "outputs": [],
      "source": [
        "def varsamp(x):\n",
        "  mx=x.mean()\n",
        "  dx=sum((x-mx)**2)\n",
        "  den=x.size-1\n",
        "  return dx/den"
      ]
    },
    {
      "cell_type": "code",
      "execution_count": null,
      "metadata": {
        "colab": {
          "base_uri": "https://localhost:8080/"
        },
        "id": "EH60Ab3UUgyK",
        "outputId": "7d5c2bf5-f05a-4ff8-f4e8-6ef7e9a6b912"
      },
      "outputs": [
        {
          "data": {
            "text/plain": [
              "np.float64(240.0)"
            ]
          },
          "execution_count": 77,
          "metadata": {},
          "output_type": "execute_result"
        }
      ],
      "source": [
        "varsamp(a)"
      ]
    },
    {
      "cell_type": "code",
      "execution_count": null,
      "metadata": {
        "id": "nqU1xA13Ui59"
      },
      "outputs": [],
      "source": [
        "def sdpop(x):\n",
        "  return varpop(x)**0.5"
      ]
    },
    {
      "cell_type": "code",
      "execution_count": null,
      "metadata": {
        "colab": {
          "base_uri": "https://localhost:8080/"
        },
        "id": "96RDiguUUudM",
        "outputId": "c13d84fb-a1c9-44d1-d240-2192cf672c42"
      },
      "outputs": [
        {
          "data": {
            "text/plain": [
              "np.float64(14.142135623730951)"
            ]
          },
          "execution_count": 79,
          "metadata": {},
          "output_type": "execute_result"
        }
      ],
      "source": [
        "sdpop(a)"
      ]
    },
    {
      "cell_type": "code",
      "execution_count": null,
      "metadata": {
        "id": "5f1vUNyGUwi3"
      },
      "outputs": [],
      "source": [
        "def sdsamp(x):\n",
        "  return varsamp(x)**0.5"
      ]
    },
    {
      "cell_type": "code",
      "execution_count": null,
      "metadata": {
        "colab": {
          "base_uri": "https://localhost:8080/"
        },
        "id": "Joex0YaXU2sx",
        "outputId": "d42c6d1b-bedc-43d5-b362-ba53dca417c3"
      },
      "outputs": [
        {
          "data": {
            "text/plain": [
              "np.float64(15.491933384829668)"
            ]
          },
          "execution_count": 81,
          "metadata": {},
          "output_type": "execute_result"
        }
      ],
      "source": [
        "sdsamp(a)"
      ]
    },
    {
      "cell_type": "code",
      "execution_count": null,
      "metadata": {
        "id": "OWkeUaZrU51g"
      },
      "outputs": [],
      "source": [
        "def covar(x,y):\n",
        "  mx=x.mean()\n",
        "  my=y.mean()\n",
        "  dx=x-mx\n",
        "  dy=y-my\n",
        "  num=sum(dx*dy)\n",
        "  den=x.size-1\n",
        "  return num/den"
      ]
    },
    {
      "cell_type": "code",
      "execution_count": null,
      "metadata": {
        "colab": {
          "base_uri": "https://localhost:8080/"
        },
        "id": "3p6RRFFpVnzC",
        "outputId": "88224079-8294-4b6a-920e-f48e2d29eb59"
      },
      "outputs": [
        {
          "data": {
            "text/plain": [
              "array([ 10, 100,   1,   3,   4,   6])"
            ]
          },
          "execution_count": 85,
          "metadata": {},
          "output_type": "execute_result"
        }
      ],
      "source": [
        "b=B.ravel()\n",
        "b"
      ]
    },
    {
      "cell_type": "code",
      "execution_count": null,
      "metadata": {
        "colab": {
          "base_uri": "https://localhost:8080/"
        },
        "id": "ENnTj1wWVRAz",
        "outputId": "1655af31-bf1b-40db-b561-e1ef83f03daf"
      },
      "outputs": [
        {
          "data": {
            "text/plain": [
              "np.float64(-203.99999999999997)"
            ]
          },
          "execution_count": 88,
          "metadata": {},
          "output_type": "execute_result"
        }
      ],
      "source": [
        "covar(a,b)"
      ]
    },
    {
      "cell_type": "code",
      "execution_count": null,
      "metadata": {
        "id": "G0HUQQaCVxsg"
      },
      "outputs": [],
      "source": [
        "def corr(x,y):\n",
        "  mx=x.mean()\n",
        "  my=y.mean()\n",
        "  dx=x-mx\n",
        "  dy=y-my\n",
        "  num=sum(dx*dy)\n",
        "  left=sum(dx**2)\n",
        "  rgt=sum(dy**2)\n",
        "  den=(left*rgt)**0.5\n",
        "  return num/den"
      ]
    },
    {
      "cell_type": "code",
      "execution_count": null,
      "metadata": {
        "colab": {
          "base_uri": "https://localhost:8080/"
        },
        "id": "A4yExdeNWQe-",
        "outputId": "a03137fd-c3d1-4ea1-f9bf-544505960fd4"
      },
      "outputs": [
        {
          "data": {
            "text/plain": [
              "np.float64(-0.33777056587498305)"
            ]
          },
          "execution_count": 93,
          "metadata": {},
          "output_type": "execute_result"
        }
      ],
      "source": [
        "corr(a,b)"
      ]
    },
    {
      "cell_type": "code",
      "execution_count": null,
      "metadata": {
        "colab": {
          "base_uri": "https://localhost:8080/"
        },
        "id": "WJrjNhcVWeQg",
        "outputId": "6022659f-b026-46df-d327-cc7a111bf452"
      },
      "outputs": [
        {
          "data": {
            "text/plain": [
              "array([ 45,  64,  83,  69,  52,  80,  99, 145,  96])"
            ]
          },
          "execution_count": 96,
          "metadata": {},
          "output_type": "execute_result"
        }
      ],
      "source": [
        "age=[20,25,30,26,22,30,35,40,32]\n",
        "exp=[0,3,6,4,1,5,8,20,9]\n",
        "age=np.array(age)\n",
        "exp=np.array(exp)\n",
        "income=5+2*age+3*exp\n",
        "income\n"
      ]
    },
    {
      "cell_type": "code",
      "execution_count": null,
      "metadata": {
        "colab": {
          "base_uri": "https://localhost:8080/"
        },
        "id": "BaFRX6oIXcmj",
        "outputId": "a6689333-8bd4-445b-abee-75d3c9549f2d"
      },
      "outputs": [
        {
          "data": {
            "text/plain": [
              "array([ 45,  64,  83,  69,  52,  80,  99, 145,  96])"
            ]
          },
          "execution_count": 97,
          "metadata": {},
          "output_type": "execute_result"
        }
      ],
      "source": [
        "income=np.array(income)\n",
        "income"
      ]
    },
    {
      "cell_type": "code",
      "execution_count": null,
      "metadata": {
        "colab": {
          "base_uri": "https://localhost:8080/"
        },
        "id": "_obXUe5sXhsv",
        "outputId": "fe1c4868-be1d-4bb1-fd89-d13439ae3cd7"
      },
      "outputs": [
        {
          "data": {
            "text/plain": [
              "array([20, 25, 30, 26, 22, 30, 35, 40, 32])"
            ]
          },
          "execution_count": 98,
          "metadata": {},
          "output_type": "execute_result"
        }
      ],
      "source": [
        "age"
      ]
    },
    {
      "cell_type": "code",
      "execution_count": null,
      "metadata": {
        "colab": {
          "base_uri": "https://localhost:8080/"
        },
        "id": "gfJZBTqlXk73",
        "outputId": "ca4d3ec1-78b4-4b6a-cd29-6f7ac7401ee2"
      },
      "outputs": [
        {
          "data": {
            "text/plain": [
              "array([ 0,  3,  6,  4,  1,  5,  8, 20,  9])"
            ]
          },
          "execution_count": 99,
          "metadata": {},
          "output_type": "execute_result"
        }
      ],
      "source": [
        "exp"
      ]
    },
    {
      "cell_type": "code",
      "execution_count": null,
      "metadata": {
        "colab": {
          "base_uri": "https://localhost:8080/"
        },
        "id": "U7WlFaguXmwe",
        "outputId": "2c321595-9693-4a2f-a7b0-630de14ad29d"
      },
      "outputs": [
        {
          "data": {
            "text/plain": [
              "array([[ 20,   0,  45],\n",
              "       [ 25,   3,  64],\n",
              "       [ 30,   6,  83],\n",
              "       [ 26,   4,  69],\n",
              "       [ 22,   1,  52],\n",
              "       [ 30,   5,  80],\n",
              "       [ 35,   8,  99],\n",
              "       [ 40,  20, 145],\n",
              "       [ 32,   9,  96]])"
            ]
          },
          "execution_count": 100,
          "metadata": {},
          "output_type": "execute_result"
        }
      ],
      "source": [
        "np.c_[age,exp,income]"
      ]
    },
    {
      "cell_type": "code",
      "execution_count": null,
      "metadata": {
        "id": "8jIU_BTGXr_U"
      },
      "outputs": [],
      "source": [
        "#step1:give me the input variables\n",
        "ones=np.ones(len(age))\n",
        "x=np.c_[ones,age,exp]"
      ]
    },
    {
      "cell_type": "code",
      "execution_count": null,
      "metadata": {
        "colab": {
          "base_uri": "https://localhost:8080/"
        },
        "id": "6L78FI95YYl5",
        "outputId": "c1ad8790-91fa-4943-9da1-9c1fbc5b9866"
      },
      "outputs": [
        {
          "data": {
            "text/plain": [
              "array([[ 1., 20.,  0.],\n",
              "       [ 1., 25.,  3.],\n",
              "       [ 1., 30.,  6.],\n",
              "       [ 1., 26.,  4.],\n",
              "       [ 1., 22.,  1.],\n",
              "       [ 1., 30.,  5.],\n",
              "       [ 1., 35.,  8.],\n",
              "       [ 1., 40., 20.],\n",
              "       [ 1., 32.,  9.]])"
            ]
          },
          "execution_count": 104,
          "metadata": {},
          "output_type": "execute_result"
        }
      ],
      "source": [
        "x"
      ]
    },
    {
      "cell_type": "code",
      "execution_count": null,
      "metadata": {
        "colab": {
          "base_uri": "https://localhost:8080/"
        },
        "id": "-aj-xy3MYIML",
        "outputId": "3a092533-0211-42f7-a88f-434373559b0e"
      },
      "outputs": [
        {
          "data": {
            "text/plain": [
              "array([[ 45],\n",
              "       [ 64],\n",
              "       [ 83],\n",
              "       [ 69],\n",
              "       [ 52],\n",
              "       [ 80],\n",
              "       [ 99],\n",
              "       [145],\n",
              "       [ 96]])"
            ]
          },
          "execution_count": 106,
          "metadata": {},
          "output_type": "execute_result"
        }
      ],
      "source": [
        "#estimeate the target variabale\n",
        "y=np.c_[income]\n",
        "y"
      ]
    },
    {
      "cell_type": "code",
      "execution_count": null,
      "metadata": {
        "colab": {
          "base_uri": "https://localhost:8080/"
        },
        "id": "4Uh0YRpVYPmh",
        "outputId": "1aea08f2-a921-4740-b2b9-9efb4cf5e276"
      },
      "outputs": [
        {
          "data": {
            "text/plain": [
              "array([[11.98235016, -0.5165406 ,  0.49034649],\n",
              "       [-0.5165406 ,  0.02273719, -0.02255009],\n",
              "       [ 0.49034649, -0.02255009,  0.02589118]])"
            ]
          },
          "execution_count": 111,
          "metadata": {},
          "output_type": "execute_result"
        }
      ],
      "source": [
        "from numpy.linalg import inv\n",
        "left=inv(x.T.dot(x))\n",
        "left"
      ]
    },
    {
      "cell_type": "code",
      "execution_count": null,
      "metadata": {
        "colab": {
          "base_uri": "https://localhost:8080/"
        },
        "id": "3QoNYmFIYtyv",
        "outputId": "3141005e-ee94-4d97-b5ce-f70882281e21"
      },
      "outputs": [
        {
          "data": {
            "text/plain": [
              "(3, 1)"
            ]
          },
          "execution_count": 109,
          "metadata": {},
          "output_type": "execute_result"
        }
      ],
      "source": [
        "w.shape"
      ]
    },
    {
      "cell_type": "code",
      "execution_count": null,
      "metadata": {
        "colab": {
          "base_uri": "https://localhost:8080/"
        },
        "id": "8fQ0TOuwYyZA",
        "outputId": "2485bae8-2fe8-4d12-8981-744ddf294c09"
      },
      "outputs": [
        {
          "data": {
            "text/plain": [
              "array([[  733.],\n",
              "       [22665.],\n",
              "       [ 5974.]])"
            ]
          },
          "execution_count": 112,
          "metadata": {},
          "output_type": "execute_result"
        }
      ],
      "source": [
        "rgt=(x.T.dot(y))\n",
        "rgt"
      ]
    },
    {
      "cell_type": "code",
      "execution_count": null,
      "metadata": {
        "colab": {
          "base_uri": "https://localhost:8080/"
        },
        "id": "pLpuWwN8ZWDi",
        "outputId": "d3f0deae-d57d-4fea-cdea-464caef78af8"
      },
      "outputs": [
        {
          "data": {
            "text/plain": [
              "array([[5.],\n",
              "       [2.],\n",
              "       [3.]])"
            ]
          },
          "execution_count": 113,
          "metadata": {},
          "output_type": "execute_result"
        }
      ],
      "source": [
        "\n",
        "w=left.dot(rgt)\n",
        "w"
      ]
    },
    {
      "cell_type": "code",
      "execution_count": null,
      "metadata": {
        "id": "Enp6KMIvZa2i"
      },
      "outputs": [],
      "source": [
        "def weights(x,y):\n",
        "  from numpy.linalg import inv\n",
        "  left=inv(x.T.dot(x))\n",
        "  rgt=(x.T.dot(y))\n",
        "  w=left.dot(rgt)\n",
        "  return w\n"
      ]
    },
    {
      "cell_type": "code",
      "execution_count": null,
      "metadata": {
        "colab": {
          "base_uri": "https://localhost:8080/"
        },
        "id": "lV2s-5RrZuxn",
        "outputId": "05e1b71e-f687-476f-ef2b-6feb5cdf59df"
      },
      "outputs": [
        {
          "data": {
            "text/plain": [
              "array([[5.],\n",
              "       [2.],\n",
              "       [3.]])"
            ]
          },
          "execution_count": 117,
          "metadata": {},
          "output_type": "execute_result"
        }
      ],
      "source": [
        "weights(x,y)"
      ]
    },
    {
      "cell_type": "code",
      "execution_count": null,
      "metadata": {
        "colab": {
          "base_uri": "https://localhost:8080/"
        },
        "id": "h__E20n-Z4cd",
        "outputId": "eda6d3b3-d497-4103-d16e-fa3f0caaa247"
      },
      "outputs": [
        {
          "data": {
            "text/plain": [
              "array([1., 1.])"
            ]
          },
          "execution_count": 128,
          "metadata": {},
          "output_type": "execute_result"
        }
      ],
      "source": [
        "#newdata\n",
        "#firstone ravi,age=25,exp=5\n",
        "#second one latha,age=24,exp=2\n",
        "newage=[25,24]\n",
        "newexp=[5,2]\n",
        "newage=np.array(newage)\n",
        "newexp=np.array(newexp)\n",
        "newones=np.ones(len(newage))\n",
        "newones"
      ]
    },
    {
      "cell_type": "code",
      "execution_count": null,
      "metadata": {
        "colab": {
          "base_uri": "https://localhost:8080/"
        },
        "id": "4to0PrUdars2",
        "outputId": "e4eaef77-6d16-4c31-d2be-0b85d6fcff1d"
      },
      "outputs": [
        {
          "data": {
            "text/plain": [
              "array([[ 1., 25.,  5.],\n",
              "       [ 1., 24.,  2.]])"
            ]
          },
          "execution_count": 132,
          "metadata": {},
          "output_type": "execute_result"
        }
      ],
      "source": [
        "x=np.c_[newones,newage,newexp]\n",
        "x"
      ]
    },
    {
      "cell_type": "code",
      "execution_count": null,
      "metadata": {
        "colab": {
          "base_uri": "https://localhost:8080/"
        },
        "id": "9FswA9u4bOJC",
        "outputId": "93ca10c9-eb22-4869-d6d4-900b7aa3f7c1"
      },
      "outputs": [
        {
          "data": {
            "text/plain": [
              "array([[5.],\n",
              "       [2.],\n",
              "       [3.]])"
            ]
          },
          "execution_count": 133,
          "metadata": {},
          "output_type": "execute_result"
        }
      ],
      "source": [
        "#predicative equation y=x.w\n",
        "w"
      ]
    },
    {
      "cell_type": "code",
      "execution_count": null,
      "metadata": {
        "colab": {
          "base_uri": "https://localhost:8080/"
        },
        "id": "9iNlzyRJbWj6",
        "outputId": "27a6b4c3-59e9-41f7-b563-8dd2c64103ee"
      },
      "outputs": [
        {
          "data": {
            "text/plain": [
              "array([[70.],\n",
              "       [59.]])"
            ]
          },
          "execution_count": 134,
          "metadata": {},
          "output_type": "execute_result"
        }
      ],
      "source": [
        "predictive_equation=x.dot(w)\n",
        "predictive_equation\n"
      ]
    },
    {
      "cell_type": "code",
      "execution_count": null,
      "metadata": {
        "colab": {
          "base_uri": "https://localhost:8080/",
          "height": 36
        },
        "id": "TRrcwG3W-hMu",
        "outputId": "28c18853-94cd-43de-d467-f342ae8fe68b"
      },
      "outputs": [
        {
          "data": {
            "application/vnd.google.colaboratory.intrinsic+json": {
              "type": "string"
            },
            "text/plain": [
              "'/content'"
            ]
          },
          "execution_count": 222,
          "metadata": {},
          "output_type": "execute_result"
        }
      ],
      "source": [
        "pwd"
      ]
    },
    {
      "cell_type": "code",
      "execution_count": null,
      "metadata": {
        "id": "jRc-G_xh-sox"
      },
      "outputs": [],
      "source": [
        "infile = open('/content/diabietics_scores.txt')"
      ]
    },
    {
      "cell_type": "code",
      "execution_count": null,
      "metadata": {
        "colab": {
          "base_uri": "https://localhost:8080/",
          "height": 36
        },
        "id": "GBBJ2r2B_DTH",
        "outputId": "22ab5eb0-dca0-4853-ed47-f96cb028f813"
      },
      "outputs": [
        {
          "data": {
            "application/vnd.google.colaboratory.intrinsic+json": {
              "type": "string"
            },
            "text/plain": [
              "'  Age,BMI,Blood Pressure,Glucose Level,Insulin Level,Diabetic Status,diabetic_score\\n'"
            ]
          },
          "execution_count": 227,
          "metadata": {},
          "output_type": "execute_result"
        }
      ],
      "source": [
        "header=infile.readline()\n",
        "header"
      ]
    },
    {
      "cell_type": "code",
      "execution_count": null,
      "metadata": {
        "colab": {
          "base_uri": "https://localhost:8080/"
        },
        "id": "dacS2-Al_Im7",
        "outputId": "e8fdadc5-148c-4a9a-b1b4-ed4173007241"
      },
      "outputs": [
        {
          "data": {
            "text/plain": [
              "['  45,25.3,120,140,85,Yes,73.15\\n',\n",
              " '  50,28.1,130,155,90,Yes,80.05\\n',\n",
              " '  38,23.5,115,110,75,No,64.25\\n',\n",
              " '  60,31.2,135,160,95,Yes,84.1\\n',\n",
              " '  55,29.8,128,150,92,Yes,79.7\\n',\n",
              " '  32,22.7,110,105,70,No,61.35\\n',\n",
              " '  42,26.5,118,135,80,No,71.85\\n',\n",
              " '  48,27.3,125,145,88,Yes,76.45\\n',\n",
              " '  35,24.1,113,120,78,No,66.45\\n',\n",
              " '  58,30.5,132,158,93,Yes,82.55\\n',\n",
              " '  41,25.8,121,138,82,No,72.9\\n',\n",
              " '  47,27.0,126,144,87,Yes,76.2\\n',\n",
              " '  36,24.9,114,122,76,No,67.25\\n',\n",
              " '  53,29.1,130,148,89,Yes,79.05000000000001\\n',\n",
              " '  40,26.0,119,132,81,No,71.3\\n',\n",
              " '  61,31.5,136,162,96,Yes,84.94999999999999\\n',\n",
              " '  39,23.8,117,128,77,No,68.60000000000001\\n',\n",
              " '  49,27.5,129,146,90,Yes,77.75\\n',\n",
              " '  37,24.5,116,124,79,No,68.15\\n',\n",
              " '  54,30.0,133,150,91,Yes,80.69999999999999']"
            ]
          },
          "execution_count": 228,
          "metadata": {},
          "output_type": "execute_result"
        }
      ],
      "source": [
        "data=infile.readlines()\n",
        "data"
      ]
    },
    {
      "cell_type": "code",
      "execution_count": null,
      "metadata": {
        "colab": {
          "base_uri": "https://localhost:8080/"
        },
        "id": "IRVfHPrR_M5X",
        "outputId": "31c417f4-b827-405a-b21f-8cdcd4722058"
      },
      "outputs": [
        {
          "data": {
            "text/plain": [
              "[['45', '25.3', '120', '140', '85', 'Yes', '73.15'],\n",
              " ['50', '28.1', '130', '155', '90', 'Yes', '80.05'],\n",
              " ['38', '23.5', '115', '110', '75', 'No', '64.25'],\n",
              " ['60', '31.2', '135', '160', '95', 'Yes', '84.1'],\n",
              " ['55', '29.8', '128', '150', '92', 'Yes', '79.7'],\n",
              " ['32', '22.7', '110', '105', '70', 'No', '61.35'],\n",
              " ['42', '26.5', '118', '135', '80', 'No', '71.85'],\n",
              " ['48', '27.3', '125', '145', '88', 'Yes', '76.45'],\n",
              " ['35', '24.1', '113', '120', '78', 'No', '66.45'],\n",
              " ['58', '30.5', '132', '158', '93', 'Yes', '82.55'],\n",
              " ['41', '25.8', '121', '138', '82', 'No', '72.9'],\n",
              " ['47', '27.0', '126', '144', '87', 'Yes', '76.2'],\n",
              " ['36', '24.9', '114', '122', '76', 'No', '67.25'],\n",
              " ['53', '29.1', '130', '148', '89', 'Yes', '79.05000000000001'],\n",
              " ['40', '26.0', '119', '132', '81', 'No', '71.3'],\n",
              " ['61', '31.5', '136', '162', '96', 'Yes', '84.94999999999999'],\n",
              " ['39', '23.8', '117', '128', '77', 'No', '68.60000000000001'],\n",
              " ['49', '27.5', '129', '146', '90', 'Yes', '77.75'],\n",
              " ['37', '24.5', '116', '124', '79', 'No', '68.15'],\n",
              " ['54', '30.0', '133', '150', '91', 'Yes', '80.69999999999999']]"
            ]
          },
          "execution_count": 229,
          "metadata": {},
          "output_type": "execute_result"
        }
      ],
      "source": [
        "datawords=[lines.strip().split(',')for lines in data]\n",
        "datawords"
      ]
    },
    {
      "cell_type": "code",
      "execution_count": null,
      "metadata": {
        "colab": {
          "base_uri": "https://localhost:8080/"
        },
        "id": "AD3JPm3a_aRV",
        "outputId": "699896a5-04b2-4936-b054-52a9938dd36f"
      },
      "outputs": [
        {
          "data": {
            "text/plain": [
              "[['45', '25.3', '120', '140', '85'],\n",
              " ['50', '28.1', '130', '155', '90'],\n",
              " ['38', '23.5', '115', '110', '75'],\n",
              " ['60', '31.2', '135', '160', '95'],\n",
              " ['55', '29.8', '128', '150', '92'],\n",
              " ['32', '22.7', '110', '105', '70'],\n",
              " ['42', '26.5', '118', '135', '80'],\n",
              " ['48', '27.3', '125', '145', '88'],\n",
              " ['35', '24.1', '113', '120', '78'],\n",
              " ['58', '30.5', '132', '158', '93'],\n",
              " ['41', '25.8', '121', '138', '82'],\n",
              " ['47', '27.0', '126', '144', '87'],\n",
              " ['36', '24.9', '114', '122', '76'],\n",
              " ['53', '29.1', '130', '148', '89'],\n",
              " ['40', '26.0', '119', '132', '81'],\n",
              " ['61', '31.5', '136', '162', '96'],\n",
              " ['39', '23.8', '117', '128', '77'],\n",
              " ['49', '27.5', '129', '146', '90'],\n",
              " ['37', '24.5', '116', '124', '79'],\n",
              " ['54', '30.0', '133', '150', '91']]"
            ]
          },
          "execution_count": 232,
          "metadata": {},
          "output_type": "execute_result"
        }
      ],
      "source": [
        "\n",
        "inputs=[l[:5]for l in datawords]\n",
        "inputs"
      ]
    },
    {
      "cell_type": "code",
      "execution_count": null,
      "metadata": {
        "id": "zlsL6nbl_2AR"
      },
      "outputs": [],
      "source": [
        "def tofloat(x):\n",
        "  return [tofloat(x) for x in inputs]"
      ]
    },
    {
      "cell_type": "code",
      "execution_count": null,
      "metadata": {
        "colab": {
          "background_save": true
        },
        "id": "aIgEWLjqAksp"
      },
      "outputs": [],
      "source": [
        "inputs=[tofloat(x) for x in inputs]\n",
        "inputs"
      ]
    }
  ],
  "metadata": {
    "colab": {
      "provenance": [],
      "authorship_tag": "ABX9TyPvnjhTLHAyiQ4F5XRIdIRe",
      "include_colab_link": true
    },
    "kernelspec": {
      "display_name": "Python 3",
      "name": "python3"
    },
    "language_info": {
      "name": "python"
    }
  },
  "nbformat": 4,
  "nbformat_minor": 0
}