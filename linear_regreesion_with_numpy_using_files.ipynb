{
  "nbformat": 4,
  "nbformat_minor": 0,
  "metadata": {
    "colab": {
      "provenance": [],
      "authorship_tag": "ABX9TyMdYN6IlYInln0VcSKVhunD",
      "include_colab_link": true
    },
    "kernelspec": {
      "name": "python3",
      "display_name": "Python 3"
    },
    "language_info": {
      "name": "python"
    }
  },
  "cells": [
    {
      "cell_type": "markdown",
      "metadata": {
        "id": "view-in-github",
        "colab_type": "text"
      },
      "source": [
        "<a href=\"https://colab.research.google.com/github/rakshithasetty41/statistics/blob/main/linear_regreesion_with_numpy_using_files.ipynb\" target=\"_parent\"><img src=\"https://colab.research.google.com/assets/colab-badge.svg\" alt=\"Open In Colab\"/></a>"
      ]
    },
    {
      "cell_type": "code",
      "execution_count": null,
      "metadata": {
        "colab": {
          "base_uri": "https://localhost:8080/"
        },
        "id": "zjlPpHz0HsIA",
        "outputId": "12f554a6-68c3-4746-af22-0b038a6a4069"
      },
      "outputs": [
        {
          "output_type": "stream",
          "name": "stdout",
          "text": [
            "/content\n"
          ]
        }
      ],
      "source": [
        "!pwd\n"
      ]
    },
    {
      "cell_type": "code",
      "source": [
        "infile=open('/content/diabietics_scores.txt.txt')"
      ],
      "metadata": {
        "id": "f_sY9lPrH7MN"
      },
      "execution_count": null,
      "outputs": []
    },
    {
      "cell_type": "code",
      "source": [
        "header=infile.readline()\n",
        "header"
      ],
      "metadata": {
        "colab": {
          "base_uri": "https://localhost:8080/",
          "height": 36
        },
        "id": "21e6Q4EoITZW",
        "outputId": "50b1beb8-2149-49bc-8608-01c6ef554514"
      },
      "execution_count": null,
      "outputs": [
        {
          "output_type": "execute_result",
          "data": {
            "text/plain": [
              "'  Age,BMI,Blood Pressure,Glucose Level,Insulin Level,Diabetic Status,diabetic_score\\n'"
            ],
            "application/vnd.google.colaboratory.intrinsic+json": {
              "type": "string"
            }
          },
          "metadata": {},
          "execution_count": 8
        }
      ]
    },
    {
      "cell_type": "code",
      "source": [
        "data=infile.readlines()\n",
        "data"
      ],
      "metadata": {
        "colab": {
          "base_uri": "https://localhost:8080/"
        },
        "id": "YBGoNxq1IXkT",
        "outputId": "bcbac661-21ea-4591-c074-4d13536a9a0e"
      },
      "execution_count": null,
      "outputs": [
        {
          "output_type": "execute_result",
          "data": {
            "text/plain": [
              "['  45,25.3,120,140,85,Yes,73.15\\n',\n",
              " '  50,28.1,130,155,90,Yes,80.05\\n',\n",
              " '  38,23.5,115,110,75,No,64.25\\n',\n",
              " '  60,31.2,135,160,95,Yes,84.1\\n',\n",
              " '  55,29.8,128,150,92,Yes,79.7\\n',\n",
              " '  32,22.7,110,105,70,No,61.35\\n',\n",
              " '  42,26.5,118,135,80,No,71.85\\n',\n",
              " '  48,27.3,125,145,88,Yes,76.45\\n',\n",
              " '  35,24.1,113,120,78,No,66.45\\n',\n",
              " '  58,30.5,132,158,93,Yes,82.55\\n',\n",
              " '  41,25.8,121,138,82,No,72.9\\n',\n",
              " '  47,27.0,126,144,87,Yes,76.2\\n',\n",
              " '  36,24.9,114,122,76,No,67.25\\n',\n",
              " '  53,29.1,130,148,89,Yes,79.05000000000001\\n',\n",
              " '  40,26.0,119,132,81,No,71.3\\n',\n",
              " '  61,31.5,136,162,96,Yes,84.94999999999999\\n',\n",
              " '  39,23.8,117,128,77,No,68.60000000000001\\n',\n",
              " '  49,27.5,129,146,90,Yes,77.75\\n',\n",
              " '  37,24.5,116,124,79,No,68.15\\n',\n",
              " '  54,30.0,133,150,91,Yes,80.69999999999999']"
            ]
          },
          "metadata": {},
          "execution_count": 9
        }
      ]
    },
    {
      "cell_type": "code",
      "source": [
        "datawords=[line.strip().split(',')for line in data]\n",
        "datawords"
      ],
      "metadata": {
        "colab": {
          "base_uri": "https://localhost:8080/"
        },
        "id": "8CyD0eAKIeki",
        "outputId": "31d0bfab-bbf0-4305-fef8-afc0794fbae2"
      },
      "execution_count": null,
      "outputs": [
        {
          "output_type": "execute_result",
          "data": {
            "text/plain": [
              "[['45', '25.3', '120', '140', '85', 'Yes', '73.15'],\n",
              " ['50', '28.1', '130', '155', '90', 'Yes', '80.05'],\n",
              " ['38', '23.5', '115', '110', '75', 'No', '64.25'],\n",
              " ['60', '31.2', '135', '160', '95', 'Yes', '84.1'],\n",
              " ['55', '29.8', '128', '150', '92', 'Yes', '79.7'],\n",
              " ['32', '22.7', '110', '105', '70', 'No', '61.35'],\n",
              " ['42', '26.5', '118', '135', '80', 'No', '71.85'],\n",
              " ['48', '27.3', '125', '145', '88', 'Yes', '76.45'],\n",
              " ['35', '24.1', '113', '120', '78', 'No', '66.45'],\n",
              " ['58', '30.5', '132', '158', '93', 'Yes', '82.55'],\n",
              " ['41', '25.8', '121', '138', '82', 'No', '72.9'],\n",
              " ['47', '27.0', '126', '144', '87', 'Yes', '76.2'],\n",
              " ['36', '24.9', '114', '122', '76', 'No', '67.25'],\n",
              " ['53', '29.1', '130', '148', '89', 'Yes', '79.05000000000001'],\n",
              " ['40', '26.0', '119', '132', '81', 'No', '71.3'],\n",
              " ['61', '31.5', '136', '162', '96', 'Yes', '84.94999999999999'],\n",
              " ['39', '23.8', '117', '128', '77', 'No', '68.60000000000001'],\n",
              " ['49', '27.5', '129', '146', '90', 'Yes', '77.75'],\n",
              " ['37', '24.5', '116', '124', '79', 'No', '68.15'],\n",
              " ['54', '30.0', '133', '150', '91', 'Yes', '80.69999999999999']]"
            ]
          },
          "metadata": {},
          "execution_count": 10
        }
      ]
    },
    {
      "cell_type": "code",
      "source": [
        "inputs=[l[:5] for l in datawords]\n",
        "inputs"
      ],
      "metadata": {
        "colab": {
          "base_uri": "https://localhost:8080/"
        },
        "id": "dGrGnpkPIuvl",
        "outputId": "b77f774c-b06c-4bc2-e813-725621650fa6"
      },
      "execution_count": null,
      "outputs": [
        {
          "output_type": "execute_result",
          "data": {
            "text/plain": [
              "[['45', '25.3', '120', '140', '85'],\n",
              " ['50', '28.1', '130', '155', '90'],\n",
              " ['38', '23.5', '115', '110', '75'],\n",
              " ['60', '31.2', '135', '160', '95'],\n",
              " ['55', '29.8', '128', '150', '92'],\n",
              " ['32', '22.7', '110', '105', '70'],\n",
              " ['42', '26.5', '118', '135', '80'],\n",
              " ['48', '27.3', '125', '145', '88'],\n",
              " ['35', '24.1', '113', '120', '78'],\n",
              " ['58', '30.5', '132', '158', '93'],\n",
              " ['41', '25.8', '121', '138', '82'],\n",
              " ['47', '27.0', '126', '144', '87'],\n",
              " ['36', '24.9', '114', '122', '76'],\n",
              " ['53', '29.1', '130', '148', '89'],\n",
              " ['40', '26.0', '119', '132', '81'],\n",
              " ['61', '31.5', '136', '162', '96'],\n",
              " ['39', '23.8', '117', '128', '77'],\n",
              " ['49', '27.5', '129', '146', '90'],\n",
              " ['37', '24.5', '116', '124', '79'],\n",
              " ['54', '30.0', '133', '150', '91']]"
            ]
          },
          "metadata": {},
          "execution_count": 15
        }
      ]
    },
    {
      "cell_type": "code",
      "source": [
        "def tofloat(xlist):\n",
        "  return [float(x) for x in xlist]"
      ],
      "metadata": {
        "id": "Z1UFGFg8JG3k"
      },
      "execution_count": null,
      "outputs": []
    },
    {
      "cell_type": "code",
      "source": [
        "inputs =[tofloat(x) for x in inputs]\n",
        "inputs"
      ],
      "metadata": {
        "colab": {
          "base_uri": "https://localhost:8080/"
        },
        "id": "ilVXWiFbJXKc",
        "outputId": "c5966d57-9ddb-4b36-ea3f-345d9da7620b"
      },
      "execution_count": null,
      "outputs": [
        {
          "output_type": "execute_result",
          "data": {
            "text/plain": [
              "[[45.0, 25.3, 120.0, 140.0, 85.0],\n",
              " [50.0, 28.1, 130.0, 155.0, 90.0],\n",
              " [38.0, 23.5, 115.0, 110.0, 75.0],\n",
              " [60.0, 31.2, 135.0, 160.0, 95.0],\n",
              " [55.0, 29.8, 128.0, 150.0, 92.0],\n",
              " [32.0, 22.7, 110.0, 105.0, 70.0],\n",
              " [42.0, 26.5, 118.0, 135.0, 80.0],\n",
              " [48.0, 27.3, 125.0, 145.0, 88.0],\n",
              " [35.0, 24.1, 113.0, 120.0, 78.0],\n",
              " [58.0, 30.5, 132.0, 158.0, 93.0],\n",
              " [41.0, 25.8, 121.0, 138.0, 82.0],\n",
              " [47.0, 27.0, 126.0, 144.0, 87.0],\n",
              " [36.0, 24.9, 114.0, 122.0, 76.0],\n",
              " [53.0, 29.1, 130.0, 148.0, 89.0],\n",
              " [40.0, 26.0, 119.0, 132.0, 81.0],\n",
              " [61.0, 31.5, 136.0, 162.0, 96.0],\n",
              " [39.0, 23.8, 117.0, 128.0, 77.0],\n",
              " [49.0, 27.5, 129.0, 146.0, 90.0],\n",
              " [37.0, 24.5, 116.0, 124.0, 79.0],\n",
              " [54.0, 30.0, 133.0, 150.0, 91.0]]"
            ]
          },
          "metadata": {},
          "execution_count": 22
        }
      ]
    },
    {
      "cell_type": "code",
      "source": [
        "dscore = [float(x[-1]) for x in datawords]\n",
        "dscore"
      ],
      "metadata": {
        "colab": {
          "base_uri": "https://localhost:8080/"
        },
        "id": "F_mxHzG6JohV",
        "outputId": "5f5ad21d-83d0-4c21-c930-22b6b4ee5030"
      },
      "execution_count": null,
      "outputs": [
        {
          "output_type": "execute_result",
          "data": {
            "text/plain": [
              "[73.15,\n",
              " 80.05,\n",
              " 64.25,\n",
              " 84.1,\n",
              " 79.7,\n",
              " 61.35,\n",
              " 71.85,\n",
              " 76.45,\n",
              " 66.45,\n",
              " 82.55,\n",
              " 72.9,\n",
              " 76.2,\n",
              " 67.25,\n",
              " 79.05000000000001,\n",
              " 71.3,\n",
              " 84.94999999999999,\n",
              " 68.60000000000001,\n",
              " 77.75,\n",
              " 68.15,\n",
              " 80.69999999999999]"
            ]
          },
          "metadata": {},
          "execution_count": 67
        }
      ]
    },
    {
      "cell_type": "code",
      "source": [
        "import numpy as np\n"
      ],
      "metadata": {
        "id": "FSGv6eUIJ1Du"
      },
      "execution_count": null,
      "outputs": []
    },
    {
      "cell_type": "code",
      "source": [
        "ones=np.ones(len(inputs))\n",
        "ones"
      ],
      "metadata": {
        "colab": {
          "base_uri": "https://localhost:8080/"
        },
        "id": "a8vkHnnmKGhN",
        "outputId": "84030635-f459-4f6c-c433-3ceea32b6711"
      },
      "execution_count": null,
      "outputs": [
        {
          "output_type": "execute_result",
          "data": {
            "text/plain": [
              "array([1., 1., 1., 1., 1., 1., 1., 1., 1., 1., 1., 1., 1., 1., 1., 1., 1.,\n",
              "       1., 1., 1.])"
            ]
          },
          "metadata": {},
          "execution_count": 69
        }
      ]
    },
    {
      "cell_type": "code",
      "source": [
        "#input variable\n",
        "X=np.c_[ones,inputs]\n",
        "X\n"
      ],
      "metadata": {
        "colab": {
          "base_uri": "https://localhost:8080/"
        },
        "id": "3qUzVBniKQYb",
        "outputId": "855fd8f3-2297-4936-bcf8-c5a3ced7d162"
      },
      "execution_count": null,
      "outputs": [
        {
          "output_type": "execute_result",
          "data": {
            "text/plain": [
              "array([[  1. ,  45. ,  25.3, 120. , 140. ,  85. ],\n",
              "       [  1. ,  50. ,  28.1, 130. , 155. ,  90. ],\n",
              "       [  1. ,  38. ,  23.5, 115. , 110. ,  75. ],\n",
              "       [  1. ,  60. ,  31.2, 135. , 160. ,  95. ],\n",
              "       [  1. ,  55. ,  29.8, 128. , 150. ,  92. ],\n",
              "       [  1. ,  32. ,  22.7, 110. , 105. ,  70. ],\n",
              "       [  1. ,  42. ,  26.5, 118. , 135. ,  80. ],\n",
              "       [  1. ,  48. ,  27.3, 125. , 145. ,  88. ],\n",
              "       [  1. ,  35. ,  24.1, 113. , 120. ,  78. ],\n",
              "       [  1. ,  58. ,  30.5, 132. , 158. ,  93. ],\n",
              "       [  1. ,  41. ,  25.8, 121. , 138. ,  82. ],\n",
              "       [  1. ,  47. ,  27. , 126. , 144. ,  87. ],\n",
              "       [  1. ,  36. ,  24.9, 114. , 122. ,  76. ],\n",
              "       [  1. ,  53. ,  29.1, 130. , 148. ,  89. ],\n",
              "       [  1. ,  40. ,  26. , 119. , 132. ,  81. ],\n",
              "       [  1. ,  61. ,  31.5, 136. , 162. ,  96. ],\n",
              "       [  1. ,  39. ,  23.8, 117. , 128. ,  77. ],\n",
              "       [  1. ,  49. ,  27.5, 129. , 146. ,  90. ],\n",
              "       [  1. ,  37. ,  24.5, 116. , 124. ,  79. ],\n",
              "       [  1. ,  54. ,  30. , 133. , 150. ,  91. ]])"
            ]
          },
          "metadata": {},
          "execution_count": 70
        }
      ]
    },
    {
      "cell_type": "code",
      "source": [
        "X.shape"
      ],
      "metadata": {
        "colab": {
          "base_uri": "https://localhost:8080/"
        },
        "id": "wso1zqlsKbt6",
        "outputId": "a5a29ac4-a4d4-4969-9396-620eeb47f28f"
      },
      "execution_count": null,
      "outputs": [
        {
          "output_type": "execute_result",
          "data": {
            "text/plain": [
              "(20, 6)"
            ]
          },
          "metadata": {},
          "execution_count": 71
        }
      ]
    },
    {
      "cell_type": "code",
      "source": [
        "Y=np.c_[dscore]\n",
        "Y.shape"
      ],
      "metadata": {
        "colab": {
          "base_uri": "https://localhost:8080/"
        },
        "id": "xZSMSdqvLx_h",
        "outputId": "ac1c975f-41a2-45bf-d4d2-1a2889464d72"
      },
      "execution_count": null,
      "outputs": [
        {
          "output_type": "execute_result",
          "data": {
            "text/plain": [
              "(20, 1)"
            ]
          },
          "metadata": {},
          "execution_count": 72
        }
      ]
    },
    {
      "cell_type": "code",
      "source": [
        "Y"
      ],
      "metadata": {
        "colab": {
          "base_uri": "https://localhost:8080/"
        },
        "id": "rBn9kAW0NO5-",
        "outputId": "d8c56240-617a-4292-a265-b8f8bf79db0f"
      },
      "execution_count": null,
      "outputs": [
        {
          "output_type": "execute_result",
          "data": {
            "text/plain": [
              "array([[73.15],\n",
              "       [80.05],\n",
              "       [64.25],\n",
              "       [84.1 ],\n",
              "       [79.7 ],\n",
              "       [61.35],\n",
              "       [71.85],\n",
              "       [76.45],\n",
              "       [66.45],\n",
              "       [82.55],\n",
              "       [72.9 ],\n",
              "       [76.2 ],\n",
              "       [67.25],\n",
              "       [79.05],\n",
              "       [71.3 ],\n",
              "       [84.95],\n",
              "       [68.6 ],\n",
              "       [77.75],\n",
              "       [68.15],\n",
              "       [80.7 ]])"
            ]
          },
          "metadata": {},
          "execution_count": 73
        }
      ]
    },
    {
      "cell_type": "code",
      "source": [
        "def Weights(x,y):\n",
        "  from numpy.linalg import inv\n",
        "  left=inv(x.T.dot(x))\n",
        "  rgt=x.T.dot(y)\n",
        "  return left.dot(rgt)"
      ],
      "metadata": {
        "id": "WGRItH6XNQzO"
      },
      "execution_count": null,
      "outputs": []
    },
    {
      "cell_type": "code",
      "source": [
        "w = Weights(X, Y)\n",
        "w.shape"
      ],
      "metadata": {
        "colab": {
          "base_uri": "https://localhost:8080/"
        },
        "id": "ijEzproYNfoC",
        "outputId": "e215ad79-df58-48d3-bf87-207391bf5145"
      },
      "execution_count": null,
      "outputs": [
        {
          "output_type": "execute_result",
          "data": {
            "text/plain": [
              "(6, 1)"
            ]
          },
          "metadata": {},
          "execution_count": 88
        }
      ]
    },
    {
      "cell_type": "code",
      "source": [
        "w"
      ],
      "metadata": {
        "colab": {
          "base_uri": "https://localhost:8080/"
        },
        "id": "A9TZuYoTOkq4",
        "outputId": "29d25460-2a82-40a6-84d4-03a2a13a3bdb"
      },
      "execution_count": null,
      "outputs": [
        {
          "output_type": "execute_result",
          "data": {
            "text/plain": [
              "array([[2.21916707e-10],\n",
              "       [3.41060513e-13],\n",
              "       [5.00000000e-01],\n",
              "       [2.00000000e-01],\n",
              "       [2.00000000e-01],\n",
              "       [1.00000000e-01]])"
            ]
          },
          "metadata": {},
          "execution_count": 89
        }
      ]
    },
    {
      "cell_type": "code",
      "source": [
        "Y=X.dot(w)\n",
        "Y.shape"
      ],
      "metadata": {
        "colab": {
          "base_uri": "https://localhost:8080/"
        },
        "id": "7u50vTUxOnBb",
        "outputId": "a1d05839-2a0a-47a8-c31b-f45a864a8726"
      },
      "execution_count": null,
      "outputs": [
        {
          "output_type": "execute_result",
          "data": {
            "text/plain": [
              "(20, 1)"
            ]
          },
          "metadata": {},
          "execution_count": 90
        }
      ]
    },
    {
      "cell_type": "code",
      "source": [
        "Y"
      ],
      "metadata": {
        "colab": {
          "base_uri": "https://localhost:8080/"
        },
        "id": "PgAGaBQpOuz9",
        "outputId": "d3540157-5496-4b6c-cf00-535ffac59b4a"
      },
      "execution_count": null,
      "outputs": [
        {
          "output_type": "execute_result",
          "data": {
            "text/plain": [
              "array([[73.15],\n",
              "       [80.05],\n",
              "       [64.25],\n",
              "       [84.1 ],\n",
              "       [79.7 ],\n",
              "       [61.35],\n",
              "       [71.85],\n",
              "       [76.45],\n",
              "       [66.45],\n",
              "       [82.55],\n",
              "       [72.9 ],\n",
              "       [76.2 ],\n",
              "       [67.25],\n",
              "       [79.05],\n",
              "       [71.3 ],\n",
              "       [84.95],\n",
              "       [68.6 ],\n",
              "       [77.75],\n",
              "       [68.15],\n",
              "       [80.7 ]])"
            ]
          },
          "metadata": {},
          "execution_count": 91
        }
      ]
    },
    {
      "cell_type": "code",
      "source": [
        "Ycap=X.dot(w)\n",
        "Ycap.shape"
      ],
      "metadata": {
        "colab": {
          "base_uri": "https://localhost:8080/"
        },
        "id": "_BvL_7QLOwk8",
        "outputId": "1c3ae38d-8667-4eb1-e6df-b482f890edd7"
      },
      "execution_count": null,
      "outputs": [
        {
          "output_type": "execute_result",
          "data": {
            "text/plain": [
              "(20, 1)"
            ]
          },
          "metadata": {},
          "execution_count": 93
        }
      ]
    },
    {
      "cell_type": "code",
      "source": [
        "Ycap"
      ],
      "metadata": {
        "colab": {
          "base_uri": "https://localhost:8080/"
        },
        "id": "0i-dUC9eO7Ea",
        "outputId": "34e2d807-1620-4e37-d263-d75c0cee2763"
      },
      "execution_count": null,
      "outputs": [
        {
          "output_type": "execute_result",
          "data": {
            "text/plain": [
              "array([[73.15],\n",
              "       [80.05],\n",
              "       [64.25],\n",
              "       [84.1 ],\n",
              "       [79.7 ],\n",
              "       [61.35],\n",
              "       [71.85],\n",
              "       [76.45],\n",
              "       [66.45],\n",
              "       [82.55],\n",
              "       [72.9 ],\n",
              "       [76.2 ],\n",
              "       [67.25],\n",
              "       [79.05],\n",
              "       [71.3 ],\n",
              "       [84.95],\n",
              "       [68.6 ],\n",
              "       [77.75],\n",
              "       [68.15],\n",
              "       [80.7 ]])"
            ]
          },
          "metadata": {},
          "execution_count": 94
        }
      ]
    },
    {
      "cell_type": "code",
      "source": [
        "np.c_[Y,Ycap]"
      ],
      "metadata": {
        "colab": {
          "base_uri": "https://localhost:8080/"
        },
        "id": "XERxa6azPaac",
        "outputId": "0ab20dae-4e93-4b39-dc13-9dff4e969c97"
      },
      "execution_count": null,
      "outputs": [
        {
          "output_type": "execute_result",
          "data": {
            "text/plain": [
              "array([[73.15, 73.15],\n",
              "       [80.05, 80.05],\n",
              "       [64.25, 64.25],\n",
              "       [84.1 , 84.1 ],\n",
              "       [79.7 , 79.7 ],\n",
              "       [61.35, 61.35],\n",
              "       [71.85, 71.85],\n",
              "       [76.45, 76.45],\n",
              "       [66.45, 66.45],\n",
              "       [82.55, 82.55],\n",
              "       [72.9 , 72.9 ],\n",
              "       [76.2 , 76.2 ],\n",
              "       [67.25, 67.25],\n",
              "       [79.05, 79.05],\n",
              "       [71.3 , 71.3 ],\n",
              "       [84.95, 84.95],\n",
              "       [68.6 , 68.6 ],\n",
              "       [77.75, 77.75],\n",
              "       [68.15, 68.15],\n",
              "       [80.7 , 80.7 ]])"
            ]
          },
          "metadata": {},
          "execution_count": 95
        }
      ]
    },
    {
      "cell_type": "code",
      "source": [
        "dy=Y.mean()\n",
        "dy"
      ],
      "metadata": {
        "colab": {
          "base_uri": "https://localhost:8080/"
        },
        "id": "S9_pKFvgPlBQ",
        "outputId": "dad4ddac-6178-4aba-960c-5820446d7f06"
      },
      "execution_count": null,
      "outputs": [
        {
          "output_type": "execute_result",
          "data": {
            "text/plain": [
              "np.float64(74.33750000011722)"
            ]
          },
          "metadata": {},
          "execution_count": 99
        }
      ]
    },
    {
      "cell_type": "code",
      "source": [
        "rss=((Y-Ycap)**2).sum()\n",
        "tss=((Y-dy)**2).sum()\n",
        "rs=1-(rss/tss)\n",
        "rs"
      ],
      "metadata": {
        "colab": {
          "base_uri": "https://localhost:8080/"
        },
        "id": "3D6bGwN_O9RT",
        "outputId": "0235ec8f-c4bc-4dc9-f10c-887a1c8c2015"
      },
      "execution_count": null,
      "outputs": [
        {
          "output_type": "execute_result",
          "data": {
            "text/plain": [
              "np.float64(1.0)"
            ]
          },
          "metadata": {},
          "execution_count": 108
        }
      ]
    },
    {
      "cell_type": "code",
      "source": [
        "def square(Y,Ycap):\n",
        "  rss=((Y-Ycap)**2).sum()\n",
        "  tss=((Y-Y.mean())**2).sum()\n",
        "  rs=1-(rss/tss)\n",
        "  return rs"
      ],
      "metadata": {
        "id": "pXQNxMK_QaQ6"
      },
      "execution_count": null,
      "outputs": []
    },
    {
      "cell_type": "code",
      "source": [
        "rsquare=square(Y,Ycap)*100\n",
        "rsquare"
      ],
      "metadata": {
        "colab": {
          "base_uri": "https://localhost:8080/"
        },
        "id": "LxvzuhHbQyzV",
        "outputId": "a3b70d41-eb97-407e-d03a-f49c54b25549"
      },
      "execution_count": null,
      "outputs": [
        {
          "output_type": "execute_result",
          "data": {
            "text/plain": [
              "np.float64(100.0)"
            ]
          },
          "metadata": {},
          "execution_count": 110
        }
      ]
    },
    {
      "cell_type": "code",
      "source": [
        "# prediction of diabetic scores for the new patients."
      ],
      "metadata": {
        "id": "D7KTu0uPRAiq"
      },
      "execution_count": null,
      "outputs": []
    },
    {
      "cell_type": "code",
      "source": [
        "inpats=open('/content/newpat_diabieticscores.txt')\n",
        "newpats=inpats.readlines()\n",
        "newpats\n"
      ],
      "metadata": {
        "colab": {
          "base_uri": "https://localhost:8080/"
        },
        "id": "d72GagiUS6zc",
        "outputId": "a98184aa-eae9-4818-d2dc-8358d78087cc"
      },
      "execution_count": null,
      "outputs": [
        {
          "output_type": "execute_result",
          "data": {
            "text/plain": [
              "[' 49,27.3,125,145,88\\n',\n",
              " ' 37,25.1,113,120,78\\n',\n",
              " ' 57,31.5,134,158,93\\n',\n",
              " ' 42,26.8,121,138,82']"
            ]
          },
          "metadata": {},
          "execution_count": 132
        }
      ]
    },
    {
      "cell_type": "code",
      "source": [],
      "metadata": {
        "id": "wxnxvAlnRBly"
      },
      "execution_count": null,
      "outputs": []
    },
    {
      "cell_type": "code",
      "source": [
        "newdata=[line.strip().split(',') for line in newpats]\n",
        "newdata"
      ],
      "metadata": {
        "colab": {
          "base_uri": "https://localhost:8080/"
        },
        "id": "0X1YKuNRRBpI",
        "outputId": "58a0539b-edd5-482d-c096-3f2e89ddf2d2"
      },
      "execution_count": null,
      "outputs": [
        {
          "output_type": "execute_result",
          "data": {
            "text/plain": [
              "[['49', '27.3', '125', '145', '88'],\n",
              " ['37', '25.1', '113', '120', '78'],\n",
              " ['57', '31.5', '134', '158', '93'],\n",
              " ['42', '26.8', '121', '138', '82']]"
            ]
          },
          "metadata": {},
          "execution_count": 136
        }
      ]
    },
    {
      "cell_type": "code",
      "source": [
        "newdata=[tofloat(x) for x in newdata]\n",
        "newdata"
      ],
      "metadata": {
        "colab": {
          "base_uri": "https://localhost:8080/"
        },
        "id": "GDn-cVIBSPCe",
        "outputId": "139c1320-554f-402e-cf55-86127c06231d"
      },
      "execution_count": null,
      "outputs": [
        {
          "output_type": "execute_result",
          "data": {
            "text/plain": [
              "[[49.0, 27.3, 125.0, 145.0, 88.0],\n",
              " [37.0, 25.1, 113.0, 120.0, 78.0],\n",
              " [57.0, 31.5, 134.0, 158.0, 93.0],\n",
              " [42.0, 26.8, 121.0, 138.0, 82.0]]"
            ]
          },
          "metadata": {},
          "execution_count": 137
        }
      ]
    },
    {
      "cell_type": "code",
      "source": [
        "newones=np.ones(len(newdata))\n",
        "newinputs=np.c_[newones,newdata]\n",
        "newinputs\n"
      ],
      "metadata": {
        "colab": {
          "base_uri": "https://localhost:8080/"
        },
        "id": "seXYySfNSOPT",
        "outputId": "1f8bd67f-8342-4c0f-ce58-18dd13fe0104"
      },
      "execution_count": null,
      "outputs": [
        {
          "output_type": "execute_result",
          "data": {
            "text/plain": [
              "array([[  1. ,  49. ,  27.3, 125. , 145. ,  88. ],\n",
              "       [  1. ,  37. ,  25.1, 113. , 120. ,  78. ],\n",
              "       [  1. ,  57. ,  31.5, 134. , 158. ,  93. ],\n",
              "       [  1. ,  42. ,  26.8, 121. , 138. ,  82. ]])"
            ]
          },
          "metadata": {},
          "execution_count": 146
        }
      ]
    },
    {
      "cell_type": "code",
      "source": [
        "newinputs.shape"
      ],
      "metadata": {
        "colab": {
          "base_uri": "https://localhost:8080/"
        },
        "id": "Cj6un4IQUxM_",
        "outputId": "d80b336d-4e21-4ba9-edd6-6a92289d46b3"
      },
      "execution_count": null,
      "outputs": [
        {
          "output_type": "execute_result",
          "data": {
            "text/plain": [
              "(4, 6)"
            ]
          },
          "metadata": {},
          "execution_count": 149
        }
      ]
    },
    {
      "cell_type": "code",
      "source": [
        "y"
      ],
      "metadata": {
        "colab": {
          "base_uri": "https://localhost:8080/"
        },
        "id": "xBwuwATRU3S6",
        "outputId": "43390c88-3c20-4a3e-b4eb-336287dd96e1"
      },
      "execution_count": null,
      "outputs": [
        {
          "output_type": "execute_result",
          "data": {
            "text/plain": [
              "array([[76.45],\n",
              "       [66.95],\n",
              "       [83.45],\n",
              "       [73.4 ]])"
            ]
          },
          "metadata": {},
          "execution_count": 150
        }
      ]
    },
    {
      "cell_type": "code",
      "source": [
        "y=newinputs.dot(w)\n",
        "y.shape"
      ],
      "metadata": {
        "colab": {
          "base_uri": "https://localhost:8080/"
        },
        "id": "38bBTtFWUiae",
        "outputId": "7ca474d2-a04f-4177-8c76-bd2694a70129"
      },
      "execution_count": null,
      "outputs": [
        {
          "output_type": "execute_result",
          "data": {
            "text/plain": [
              "(4, 1)"
            ]
          },
          "metadata": {},
          "execution_count": 148
        }
      ]
    },
    {
      "cell_type": "code",
      "source": [
        "np.c_[newinputs,y]"
      ],
      "metadata": {
        "colab": {
          "base_uri": "https://localhost:8080/"
        },
        "id": "032oyRqCU7rf",
        "outputId": "6ff90a4f-a642-42f8-8490-64fbb7ab39a0"
      },
      "execution_count": null,
      "outputs": [
        {
          "output_type": "execute_result",
          "data": {
            "text/plain": [
              "array([[  1.  ,  49.  ,  27.3 , 125.  , 145.  ,  88.  ,  76.45],\n",
              "       [  1.  ,  37.  ,  25.1 , 113.  , 120.  ,  78.  ,  66.95],\n",
              "       [  1.  ,  57.  ,  31.5 , 134.  , 158.  ,  93.  ,  83.45],\n",
              "       [  1.  ,  42.  ,  26.8 , 121.  , 138.  ,  82.  ,  73.4 ]])"
            ]
          },
          "metadata": {},
          "execution_count": 151
        }
      ]
    }
  ]
}