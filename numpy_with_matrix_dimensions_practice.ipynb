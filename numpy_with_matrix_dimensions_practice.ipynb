{
  "nbformat": 4,
  "nbformat_minor": 0,
  "metadata": {
    "colab": {
      "provenance": [],
      "authorship_tag": "ABX9TyM3jXtjxSowEcqF2FAUDUzM",
      "include_colab_link": true
    },
    "kernelspec": {
      "name": "python3",
      "display_name": "Python 3"
    },
    "language_info": {
      "name": "python"
    }
  },
  "cells": [
    {
      "cell_type": "markdown",
      "metadata": {
        "id": "view-in-github",
        "colab_type": "text"
      },
      "source": [
        "<a href=\"https://colab.research.google.com/github/rakshithasetty41/statistics/blob/main/numpy_with_matrix_dimensions_practice.ipynb\" target=\"_parent\"><img src=\"https://colab.research.google.com/assets/colab-badge.svg\" alt=\"Open In Colab\"/></a>"
      ]
    },
    {
      "cell_type": "code",
      "execution_count": null,
      "metadata": {
        "id": "e_PlwlV4vbWw"
      },
      "outputs": [],
      "source": [
        "import numpy as np"
      ]
    },
    {
      "cell_type": "code",
      "source": [
        "t=[20,40,90,50,70]\n",
        "on=[100,120,130,200,150]\n",
        "cr=[40,50,40,60,70]\n",
        "price=np.array([t,on,cr])\n",
        "print(price)\n"
      ],
      "metadata": {
        "colab": {
          "base_uri": "https://localhost:8080/"
        },
        "id": "n28tgMwpve2x",
        "outputId": "3daf32d2-c2dc-4343-a706-30d99d26637e"
      },
      "execution_count": null,
      "outputs": [
        {
          "output_type": "stream",
          "name": "stdout",
          "text": [
            "[[ 20  40  90  50  70]\n",
            " [100 120 130 200 150]\n",
            " [ 40  50  40  60  70]]\n"
          ]
        }
      ]
    },
    {
      "cell_type": "code",
      "source": [
        "price\n"
      ],
      "metadata": {
        "colab": {
          "base_uri": "https://localhost:8080/"
        },
        "id": "C2n3wSbmv27i",
        "outputId": "5de59c96-733e-4380-955a-07272dbe2611"
      },
      "execution_count": null,
      "outputs": [
        {
          "output_type": "execute_result",
          "data": {
            "text/plain": [
              "array([[ 20,  40,  90,  50,  70],\n",
              "       [100, 120, 130, 200, 150],\n",
              "       [ 40,  50,  40,  60,  70]])"
            ]
          },
          "metadata": {},
          "execution_count": 6
        }
      ]
    },
    {
      "cell_type": "code",
      "source": [
        "len(price)"
      ],
      "metadata": {
        "colab": {
          "base_uri": "https://localhost:8080/"
        },
        "id": "OUbeUuH7v5w_",
        "outputId": "85ac33f8-0740-4af5-d817-98260233395c"
      },
      "execution_count": null,
      "outputs": [
        {
          "output_type": "execute_result",
          "data": {
            "text/plain": [
              "3"
            ]
          },
          "metadata": {},
          "execution_count": 8
        }
      ]
    },
    {
      "cell_type": "code",
      "source": [
        "price.size"
      ],
      "metadata": {
        "colab": {
          "base_uri": "https://localhost:8080/"
        },
        "id": "0xatsLZRwkty",
        "outputId": "5f3669c1-a131-412c-880b-ef4e4ff7659a"
      },
      "execution_count": null,
      "outputs": [
        {
          "output_type": "execute_result",
          "data": {
            "text/plain": [
              "15"
            ]
          },
          "metadata": {},
          "execution_count": 9
        }
      ]
    },
    {
      "cell_type": "code",
      "source": [
        "price[-1,0]"
      ],
      "metadata": {
        "colab": {
          "base_uri": "https://localhost:8080/"
        },
        "id": "iHP8a5UTwurv",
        "outputId": "4fe6e362-dca4-4e53-cead-c5b1d2c900c1"
      },
      "execution_count": null,
      "outputs": [
        {
          "output_type": "execute_result",
          "data": {
            "text/plain": [
              "np.int64(40)"
            ]
          },
          "metadata": {},
          "execution_count": 10
        }
      ]
    },
    {
      "cell_type": "code",
      "source": [
        "price[0,-1]\n"
      ],
      "metadata": {
        "colab": {
          "base_uri": "https://localhost:8080/"
        },
        "id": "W-BmeGxEw0n-",
        "outputId": "4996da9a-cd85-4dc3-a182-6d3afb12ec04"
      },
      "execution_count": null,
      "outputs": [
        {
          "output_type": "execute_result",
          "data": {
            "text/plain": [
              "np.int64(70)"
            ]
          },
          "metadata": {},
          "execution_count": 13
        }
      ]
    },
    {
      "cell_type": "code",
      "source": [
        "price[1].mean()"
      ],
      "metadata": {
        "colab": {
          "base_uri": "https://localhost:8080/"
        },
        "id": "-OuMieu3xBBr",
        "outputId": "6fa9526a-b50d-4405-bf04-c695c94ad543"
      },
      "execution_count": null,
      "outputs": [
        {
          "output_type": "execute_result",
          "data": {
            "text/plain": [
              "np.float64(140.0)"
            ]
          },
          "metadata": {},
          "execution_count": 14
        }
      ]
    },
    {
      "cell_type": "code",
      "source": [
        "price[:,-1].mean()"
      ],
      "metadata": {
        "colab": {
          "base_uri": "https://localhost:8080/"
        },
        "id": "lgNDp5rnxHWh",
        "outputId": "33a14837-2bc0-427b-e7f9-cf34f012286f"
      },
      "execution_count": null,
      "outputs": [
        {
          "output_type": "execute_result",
          "data": {
            "text/plain": [
              "np.float64(96.66666666666667)"
            ]
          },
          "metadata": {},
          "execution_count": 17
        }
      ]
    },
    {
      "cell_type": "code",
      "source": [
        "price"
      ],
      "metadata": {
        "colab": {
          "base_uri": "https://localhost:8080/"
        },
        "id": "jto388qIxZDG",
        "outputId": "3273de78-4193-4c61-b5f7-82b5a0d97750"
      },
      "execution_count": null,
      "outputs": [
        {
          "output_type": "execute_result",
          "data": {
            "text/plain": [
              "array([[ 20,  40,  90,  50,  70],\n",
              "       [100, 120, 130, 200, 150],\n",
              "       [ 40,  50,  40,  60,  70]])"
            ]
          },
          "metadata": {},
          "execution_count": 18
        }
      ]
    },
    {
      "cell_type": "code",
      "source": [
        "price[:-1,-2:]"
      ],
      "metadata": {
        "colab": {
          "base_uri": "https://localhost:8080/"
        },
        "id": "Bx0US_TBxfGD",
        "outputId": "a5aed253-62cc-4341-a230-a33c4e4683df"
      },
      "execution_count": null,
      "outputs": [
        {
          "output_type": "execute_result",
          "data": {
            "text/plain": [
              "array([[ 50,  70],\n",
              "       [200, 150]])"
            ]
          },
          "metadata": {},
          "execution_count": 19
        }
      ]
    },
    {
      "cell_type": "code",
      "source": [
        "price[0:,-1]"
      ],
      "metadata": {
        "colab": {
          "base_uri": "https://localhost:8080/"
        },
        "id": "P8ZXawrcxqyC",
        "outputId": "f63adffc-b291-4df9-87a6-0a9c519d7ba9"
      },
      "execution_count": null,
      "outputs": [
        {
          "output_type": "execute_result",
          "data": {
            "text/plain": [
              "array([ 70, 150,  70])"
            ]
          },
          "metadata": {},
          "execution_count": 20
        }
      ]
    },
    {
      "cell_type": "code",
      "source": [
        "price[:,2:]"
      ],
      "metadata": {
        "colab": {
          "base_uri": "https://localhost:8080/"
        },
        "id": "m2ld-PAcx1y9",
        "outputId": "e4080544-4071-4224-c086-b743e4b87ce1"
      },
      "execution_count": null,
      "outputs": [
        {
          "output_type": "execute_result",
          "data": {
            "text/plain": [
              "array([[ 90,  50,  70],\n",
              "       [130, 200, 150],\n",
              "       [ 40,  60,  70]])"
            ]
          },
          "metadata": {},
          "execution_count": 21
        }
      ]
    },
    {
      "cell_type": "code",
      "source": [
        "price[1:,1:3]"
      ],
      "metadata": {
        "colab": {
          "base_uri": "https://localhost:8080/"
        },
        "id": "BvrfzRrPx7Yu",
        "outputId": "cf4bedf6-1c85-4e37-a899-7b73fb8e7f44"
      },
      "execution_count": null,
      "outputs": [
        {
          "output_type": "execute_result",
          "data": {
            "text/plain": [
              "array([[120, 130],\n",
              "       [ 50,  40]])"
            ]
          },
          "metadata": {},
          "execution_count": 22
        }
      ]
    },
    {
      "cell_type": "code",
      "source": [
        "price[2,1:4]"
      ],
      "metadata": {
        "colab": {
          "base_uri": "https://localhost:8080/"
        },
        "id": "CeihxVf6yH-R",
        "outputId": "c0979947-d92f-4dba-e55d-d7a690568ec6"
      },
      "execution_count": null,
      "outputs": [
        {
          "output_type": "execute_result",
          "data": {
            "text/plain": [
              "array([50, 40, 60])"
            ]
          },
          "metadata": {},
          "execution_count": 23
        }
      ]
    },
    {
      "cell_type": "code",
      "source": [
        "hyd=price.copy()\n",
        "delhi=price*0.2\n",
        "pune=price*0.8"
      ],
      "metadata": {
        "id": "nib69fbiySAH"
      },
      "execution_count": null,
      "outputs": []
    },
    {
      "cell_type": "code",
      "source": [
        "hyd"
      ],
      "metadata": {
        "colab": {
          "base_uri": "https://localhost:8080/"
        },
        "id": "uBtg8uZj5L2V",
        "outputId": "7e00b48f-b626-426b-ba5e-07b3bdef8b47"
      },
      "execution_count": null,
      "outputs": [
        {
          "output_type": "execute_result",
          "data": {
            "text/plain": [
              "array([[ 20,  40,  90,  50,  70],\n",
              "       [100, 120, 130, 200, 150],\n",
              "       [ 40,  50,  40,  60,  70]])"
            ]
          },
          "metadata": {},
          "execution_count": 25
        }
      ]
    },
    {
      "cell_type": "code",
      "source": [
        "delhi"
      ],
      "metadata": {
        "colab": {
          "base_uri": "https://localhost:8080/"
        },
        "id": "iiuMDLr_5O9q",
        "outputId": "6eb1aa60-fed2-46ad-c5a0-aa5254cf1991"
      },
      "execution_count": null,
      "outputs": [
        {
          "output_type": "execute_result",
          "data": {
            "text/plain": [
              "array([[ 4.,  8., 18., 10., 14.],\n",
              "       [20., 24., 26., 40., 30.],\n",
              "       [ 8., 10.,  8., 12., 14.]])"
            ]
          },
          "metadata": {},
          "execution_count": 26
        }
      ]
    },
    {
      "cell_type": "code",
      "source": [
        "pune"
      ],
      "metadata": {
        "colab": {
          "base_uri": "https://localhost:8080/"
        },
        "id": "erTdXQbv5Q9b",
        "outputId": "fffce247-7fe8-493e-f7c4-c5241e2e56f7"
      },
      "execution_count": null,
      "outputs": [
        {
          "output_type": "execute_result",
          "data": {
            "text/plain": [
              "array([[ 16.,  32.,  72.,  40.,  56.],\n",
              "       [ 80.,  96., 104., 160., 120.],\n",
              "       [ 32.,  40.,  32.,  48.,  56.]])"
            ]
          },
          "metadata": {},
          "execution_count": 27
        }
      ]
    },
    {
      "cell_type": "code",
      "source": [
        "price=np.array([hyd,delhi,pune])"
      ],
      "metadata": {
        "id": "Qlf5g00r5XIG"
      },
      "execution_count": null,
      "outputs": []
    },
    {
      "cell_type": "code",
      "source": [
        "price"
      ],
      "metadata": {
        "colab": {
          "base_uri": "https://localhost:8080/"
        },
        "id": "SBUWrCt45dSN",
        "outputId": "576beb8e-5ff1-459c-e6cc-e71050593bcd"
      },
      "execution_count": null,
      "outputs": [
        {
          "output_type": "execute_result",
          "data": {
            "text/plain": [
              "array([[[ 20.,  40.,  90.,  50.,  70.],\n",
              "        [100., 120., 130., 200., 150.],\n",
              "        [ 40.,  50.,  40.,  60.,  70.]],\n",
              "\n",
              "       [[  4.,   8.,  18.,  10.,  14.],\n",
              "        [ 20.,  24.,  26.,  40.,  30.],\n",
              "        [  8.,  10.,   8.,  12.,  14.]],\n",
              "\n",
              "       [[ 16.,  32.,  72.,  40.,  56.],\n",
              "        [ 80.,  96., 104., 160., 120.],\n",
              "        [ 32.,  40.,  32.,  48.,  56.]]])"
            ]
          },
          "metadata": {},
          "execution_count": 29
        }
      ]
    },
    {
      "cell_type": "code",
      "source": [
        "price[-1,0,-1]"
      ],
      "metadata": {
        "colab": {
          "base_uri": "https://localhost:8080/"
        },
        "id": "xR1rrlpV5haT",
        "outputId": "aafaf51a-0e7c-4d37-9747-657aed727041"
      },
      "execution_count": null,
      "outputs": [
        {
          "output_type": "execute_result",
          "data": {
            "text/plain": [
              "np.float64(56.0)"
            ]
          },
          "metadata": {},
          "execution_count": 30
        }
      ]
    },
    {
      "cell_type": "code",
      "source": [
        "price[1,-1,-2]"
      ],
      "metadata": {
        "colab": {
          "base_uri": "https://localhost:8080/"
        },
        "id": "JfcVRHu-524-",
        "outputId": "49ded54f-60c4-4ba1-d163-d792e96be41c"
      },
      "execution_count": null,
      "outputs": [
        {
          "output_type": "execute_result",
          "data": {
            "text/plain": [
              "np.float64(12.0)"
            ]
          },
          "metadata": {},
          "execution_count": 31
        }
      ]
    },
    {
      "cell_type": "code",
      "source": [
        "price[1,2].mean()"
      ],
      "metadata": {
        "colab": {
          "base_uri": "https://localhost:8080/"
        },
        "id": "Rn6r7Iek6Mkj",
        "outputId": "b924e4e3-88ea-464d-ddfe-7f442bdfaa7d"
      },
      "execution_count": null,
      "outputs": [
        {
          "output_type": "execute_result",
          "data": {
            "text/plain": [
              "np.float64(10.4)"
            ]
          },
          "metadata": {},
          "execution_count": 35
        }
      ]
    },
    {
      "cell_type": "code",
      "source": [
        "price[-1,:,-1].mean()"
      ],
      "metadata": {
        "colab": {
          "base_uri": "https://localhost:8080/"
        },
        "id": "a9v9FdQ-6cdm",
        "outputId": "4afcffc4-c628-4f56-b1ea-1db09c8e75d8"
      },
      "execution_count": null,
      "outputs": [
        {
          "output_type": "execute_result",
          "data": {
            "text/plain": [
              "np.float64(77.33333333333333)"
            ]
          },
          "metadata": {},
          "execution_count": 36
        }
      ]
    },
    {
      "cell_type": "code",
      "source": [],
      "metadata": {
        "id": "MdmGwNyS7DaP"
      },
      "execution_count": null,
      "outputs": []
    },
    {
      "cell_type": "code",
      "source": [
        "price[:,0,-2]"
      ],
      "metadata": {
        "colab": {
          "base_uri": "https://localhost:8080/"
        },
        "id": "7v0uRLUo6q_c",
        "outputId": "2982c9fe-8883-4462-c1bd-fa78f5e12e8f"
      },
      "execution_count": null,
      "outputs": [
        {
          "output_type": "execute_result",
          "data": {
            "text/plain": [
              "array([50., 10., 40.])"
            ]
          },
          "metadata": {},
          "execution_count": 38
        }
      ]
    },
    {
      "cell_type": "code",
      "source": [
        "price"
      ],
      "metadata": {
        "colab": {
          "base_uri": "https://localhost:8080/"
        },
        "id": "H2BL5bjv7AzU",
        "outputId": "0d058b1e-e84f-40c3-b83d-de0764ab9d04"
      },
      "execution_count": null,
      "outputs": [
        {
          "output_type": "execute_result",
          "data": {
            "text/plain": [
              "array([[[ 20.,  40.,  90.,  50.,  70.],\n",
              "        [100., 120., 130., 200., 150.],\n",
              "        [ 40.,  50.,  40.,  60.,  70.]],\n",
              "\n",
              "       [[  4.,   8.,  18.,  10.,  14.],\n",
              "        [ 20.,  24.,  26.,  40.,  30.],\n",
              "        [  8.,  10.,   8.,  12.,  14.]],\n",
              "\n",
              "       [[ 16.,  32.,  72.,  40.,  56.],\n",
              "        [ 80.,  96., 104., 160., 120.],\n",
              "        [ 32.,  40.,  32.,  48.,  56.]]])"
            ]
          },
          "metadata": {},
          "execution_count": 39
        }
      ]
    },
    {
      "cell_type": "code",
      "source": [
        "price[1,0,2]"
      ],
      "metadata": {
        "colab": {
          "base_uri": "https://localhost:8080/"
        },
        "id": "cs3jelIV7Fqw",
        "outputId": "8543d776-386c-4989-bff1-681bb8265ec3"
      },
      "execution_count": null,
      "outputs": [
        {
          "output_type": "execute_result",
          "data": {
            "text/plain": [
              "np.float64(18.0)"
            ]
          },
          "metadata": {},
          "execution_count": 42
        }
      ]
    },
    {
      "cell_type": "code",
      "source": [
        "price[:,0,:]"
      ],
      "metadata": {
        "colab": {
          "base_uri": "https://localhost:8080/"
        },
        "id": "t18VGn-n7X7_",
        "outputId": "2cf6f668-a029-40bf-9d99-a4674b76c405"
      },
      "execution_count": null,
      "outputs": [
        {
          "output_type": "execute_result",
          "data": {
            "text/plain": [
              "array([[20., 40., 90., 50., 70.],\n",
              "       [ 4.,  8., 18., 10., 14.],\n",
              "       [16., 32., 72., 40., 56.]])"
            ]
          },
          "metadata": {},
          "execution_count": 43
        }
      ]
    },
    {
      "cell_type": "code",
      "source": [
        "price[:,0:,2]"
      ],
      "metadata": {
        "colab": {
          "base_uri": "https://localhost:8080/"
        },
        "id": "lKuxEHvw7j95",
        "outputId": "7bc62e24-1cd7-41f3-e51f-e373c13ccf84"
      },
      "execution_count": null,
      "outputs": [
        {
          "output_type": "execute_result",
          "data": {
            "text/plain": [
              "array([[ 90., 130.,  40.],\n",
              "       [ 18.,  26.,   8.],\n",
              "       [ 72., 104.,  32.]])"
            ]
          },
          "metadata": {},
          "execution_count": 44
        }
      ]
    },
    {
      "cell_type": "code",
      "source": [
        "price[:,:,0:3]"
      ],
      "metadata": {
        "colab": {
          "base_uri": "https://localhost:8080/"
        },
        "id": "ND83KqEl7xTk",
        "outputId": "58562840-bcea-4a10-c697-d7da56ce6b0d"
      },
      "execution_count": null,
      "outputs": [
        {
          "output_type": "execute_result",
          "data": {
            "text/plain": [
              "array([[[ 20.,  40.,  90.],\n",
              "        [100., 120., 130.],\n",
              "        [ 40.,  50.,  40.]],\n",
              "\n",
              "       [[  4.,   8.,  18.],\n",
              "        [ 20.,  24.,  26.],\n",
              "        [  8.,  10.,   8.]],\n",
              "\n",
              "       [[ 16.,  32.,  72.],\n",
              "        [ 80.,  96., 104.],\n",
              "        [ 32.,  40.,  32.]]])"
            ]
          },
          "metadata": {},
          "execution_count": 45
        }
      ]
    },
    {
      "cell_type": "code",
      "source": [
        "domestic=price.copy()\n",
        "export=domestic*3\n",
        "price=np.array([domestic,export])\n",
        "price"
      ],
      "metadata": {
        "colab": {
          "base_uri": "https://localhost:8080/"
        },
        "id": "R3gHb3Mf7v3V",
        "outputId": "27d4c2cd-253b-45d5-8ea5-484836990480"
      },
      "execution_count": null,
      "outputs": [
        {
          "output_type": "execute_result",
          "data": {
            "text/plain": [
              "array([[[[ 20.,  40.,  90.,  50.,  70.],\n",
              "         [100., 120., 130., 200., 150.],\n",
              "         [ 40.,  50.,  40.,  60.,  70.]],\n",
              "\n",
              "        [[  4.,   8.,  18.,  10.,  14.],\n",
              "         [ 20.,  24.,  26.,  40.,  30.],\n",
              "         [  8.,  10.,   8.,  12.,  14.]],\n",
              "\n",
              "        [[ 16.,  32.,  72.,  40.,  56.],\n",
              "         [ 80.,  96., 104., 160., 120.],\n",
              "         [ 32.,  40.,  32.,  48.,  56.]]],\n",
              "\n",
              "\n",
              "       [[[ 60., 120., 270., 150., 210.],\n",
              "         [300., 360., 390., 600., 450.],\n",
              "         [120., 150., 120., 180., 210.]],\n",
              "\n",
              "        [[ 12.,  24.,  54.,  30.,  42.],\n",
              "         [ 60.,  72.,  78., 120.,  90.],\n",
              "         [ 24.,  30.,  24.,  36.,  42.]],\n",
              "\n",
              "        [[ 48.,  96., 216., 120., 168.],\n",
              "         [240., 288., 312., 480., 360.],\n",
              "         [ 96., 120.,  96., 144., 168.]]]])"
            ]
          },
          "metadata": {},
          "execution_count": 47
        }
      ]
    },
    {
      "cell_type": "code",
      "source": [
        "price.size\n"
      ],
      "metadata": {
        "colab": {
          "base_uri": "https://localhost:8080/"
        },
        "id": "4QD7erUW8aX8",
        "outputId": "96824ff2-8782-43d6-a7ea-a70283b494e7"
      },
      "execution_count": null,
      "outputs": [
        {
          "output_type": "execute_result",
          "data": {
            "text/plain": [
              "90"
            ]
          },
          "metadata": {},
          "execution_count": 50
        }
      ]
    },
    {
      "cell_type": "code",
      "source": [
        "price.ndim"
      ],
      "metadata": {
        "colab": {
          "base_uri": "https://localhost:8080/"
        },
        "id": "rz-I-HHw8RAQ",
        "outputId": "edcd7b82-858f-4c5f-db62-9bd04c0667a4"
      },
      "execution_count": null,
      "outputs": [
        {
          "output_type": "execute_result",
          "data": {
            "text/plain": [
              "4"
            ]
          },
          "metadata": {},
          "execution_count": 48
        }
      ]
    },
    {
      "cell_type": "code",
      "source": [
        "len(price)"
      ],
      "metadata": {
        "colab": {
          "base_uri": "https://localhost:8080/"
        },
        "id": "0SUd_Han8TZS",
        "outputId": "86f7b132-4541-479a-8f7c-b60c0b7095bd"
      },
      "execution_count": null,
      "outputs": [
        {
          "output_type": "execute_result",
          "data": {
            "text/plain": [
              "2"
            ]
          },
          "metadata": {},
          "execution_count": 49
        }
      ]
    },
    {
      "cell_type": "code",
      "source": [
        "price.shape"
      ],
      "metadata": {
        "colab": {
          "base_uri": "https://localhost:8080/"
        },
        "id": "kWKUXzvj8eaQ",
        "outputId": "67172c12-01a4-4806-d0e4-8a2399badb12"
      },
      "execution_count": null,
      "outputs": [
        {
          "output_type": "execute_result",
          "data": {
            "text/plain": [
              "(2, 3, 3, 5)"
            ]
          },
          "metadata": {},
          "execution_count": 51
        }
      ]
    },
    {
      "cell_type": "code",
      "source": [
        "price[-1,-1,1].mean()"
      ],
      "metadata": {
        "colab": {
          "base_uri": "https://localhost:8080/"
        },
        "id": "H00p7jw38gps",
        "outputId": "cb142652-350f-467e-b80c-a78826ccde26"
      },
      "execution_count": null,
      "outputs": [
        {
          "output_type": "execute_result",
          "data": {
            "text/plain": [
              "np.float64(336.0)"
            ]
          },
          "metadata": {},
          "execution_count": 53
        }
      ]
    },
    {
      "cell_type": "code",
      "source": [
        "price[:,1,:,3:]"
      ],
      "metadata": {
        "colab": {
          "base_uri": "https://localhost:8080/"
        },
        "id": "TfywXjRy80Zy",
        "outputId": "b23edfb5-f07e-456b-c9b0-c1bd8f8326f9"
      },
      "execution_count": null,
      "outputs": [
        {
          "output_type": "execute_result",
          "data": {
            "text/plain": [
              "array([[[ 10.,  14.],\n",
              "        [ 40.,  30.],\n",
              "        [ 12.,  14.]],\n",
              "\n",
              "       [[ 30.,  42.],\n",
              "        [120.,  90.],\n",
              "        [ 36.,  42.]]])"
            ]
          },
          "metadata": {},
          "execution_count": 55
        }
      ]
    },
    {
      "cell_type": "code",
      "source": [
        "price"
      ],
      "metadata": {
        "colab": {
          "base_uri": "https://localhost:8080/"
        },
        "id": "uSfKOnQD9PDV",
        "outputId": "dc4ae047-8814-4b38-9d58-b1655ff67a1b"
      },
      "execution_count": null,
      "outputs": [
        {
          "output_type": "execute_result",
          "data": {
            "text/plain": [
              "array([[[[ 20.,  40.,  90.,  50.,  70.],\n",
              "         [100., 120., 130., 200., 150.],\n",
              "         [ 40.,  50.,  40.,  60.,  70.]],\n",
              "\n",
              "        [[  4.,   8.,  18.,  10.,  14.],\n",
              "         [ 20.,  24.,  26.,  40.,  30.],\n",
              "         [  8.,  10.,   8.,  12.,  14.]],\n",
              "\n",
              "        [[ 16.,  32.,  72.,  40.,  56.],\n",
              "         [ 80.,  96., 104., 160., 120.],\n",
              "         [ 32.,  40.,  32.,  48.,  56.]]],\n",
              "\n",
              "\n",
              "       [[[ 60., 120., 270., 150., 210.],\n",
              "         [300., 360., 390., 600., 450.],\n",
              "         [120., 150., 120., 180., 210.]],\n",
              "\n",
              "        [[ 12.,  24.,  54.,  30.,  42.],\n",
              "         [ 60.,  72.,  78., 120.,  90.],\n",
              "         [ 24.,  30.,  24.,  36.,  42.]],\n",
              "\n",
              "        [[ 48.,  96., 216., 120., 168.],\n",
              "         [240., 288., 312., 480., 360.],\n",
              "         [ 96., 120.,  96., 144., 168.]]]])"
            ]
          },
          "metadata": {},
          "execution_count": 56
        }
      ]
    },
    {
      "cell_type": "code",
      "source": [
        "price[1,:,1:,:]"
      ],
      "metadata": {
        "colab": {
          "base_uri": "https://localhost:8080/"
        },
        "id": "k2b2Hwn_9T0n",
        "outputId": "c207d32a-36e2-4e23-dbd8-e00f01be77da"
      },
      "execution_count": null,
      "outputs": [
        {
          "output_type": "execute_result",
          "data": {
            "text/plain": [
              "array([[[300., 360., 390., 600., 450.],\n",
              "        [120., 150., 120., 180., 210.]],\n",
              "\n",
              "       [[ 60.,  72.,  78., 120.,  90.],\n",
              "        [ 24.,  30.,  24.,  36.,  42.]],\n",
              "\n",
              "       [[240., 288., 312., 480., 360.],\n",
              "        [ 96., 120.,  96., 144., 168.]]])"
            ]
          },
          "metadata": {},
          "execution_count": 57
        }
      ]
    },
    {
      "cell_type": "code",
      "source": [
        "price[1,1,:,-3]"
      ],
      "metadata": {
        "colab": {
          "base_uri": "https://localhost:8080/"
        },
        "id": "B0Z8xWug9rfc",
        "outputId": "305ef480-a102-4a93-83fe-577484c7034e"
      },
      "execution_count": null,
      "outputs": [
        {
          "output_type": "execute_result",
          "data": {
            "text/plain": [
              "array([54., 78., 24.])"
            ]
          },
          "metadata": {},
          "execution_count": 59
        }
      ]
    },
    {
      "cell_type": "code",
      "source": [
        "price[1,0,0,0]"
      ],
      "metadata": {
        "colab": {
          "base_uri": "https://localhost:8080/"
        },
        "id": "Y8WgZcng974B",
        "outputId": "496f6421-d2ee-4b3e-c768-1140a6b0164f"
      },
      "execution_count": null,
      "outputs": [
        {
          "output_type": "execute_result",
          "data": {
            "text/plain": [
              "np.float64(60.0)"
            ]
          },
          "metadata": {},
          "execution_count": 60
        }
      ]
    },
    {
      "cell_type": "code",
      "source": [
        "price[1,:,1,-1]"
      ],
      "metadata": {
        "colab": {
          "base_uri": "https://localhost:8080/"
        },
        "id": "-EiTbO2I-MQt",
        "outputId": "cd81ef52-72d5-4e1f-cde1-3f6fa3dc6053"
      },
      "execution_count": null,
      "outputs": [
        {
          "output_type": "execute_result",
          "data": {
            "text/plain": [
              "array([450.,  90., 360.])"
            ]
          },
          "metadata": {},
          "execution_count": 61
        }
      ]
    },
    {
      "cell_type": "code",
      "source": [
        "price[1,:,:,-1]"
      ],
      "metadata": {
        "colab": {
          "base_uri": "https://localhost:8080/"
        },
        "id": "OrTlXNDp-a1Q",
        "outputId": "228c7744-481f-4e73-ea50-5119b9912091"
      },
      "execution_count": null,
      "outputs": [
        {
          "output_type": "execute_result",
          "data": {
            "text/plain": [
              "array([[210., 450., 210.],\n",
              "       [ 42.,  90.,  42.],\n",
              "       [168., 360., 168.]])"
            ]
          },
          "metadata": {},
          "execution_count": 62
        }
      ]
    }
  ]
}