{
  "nbformat": 4,
  "nbformat_minor": 0,
  "metadata": {
    "colab": {
      "provenance": [],
      "authorship_tag": "ABX9TyO4+VOlh98Z03994xz2LgLS",
      "include_colab_link": true
    },
    "kernelspec": {
      "name": "python3",
      "display_name": "Python 3"
    },
    "language_info": {
      "name": "python"
    }
  },
  "cells": [
    {
      "cell_type": "markdown",
      "metadata": {
        "id": "view-in-github",
        "colab_type": "text"
      },
      "source": [
        "<a href=\"https://colab.research.google.com/github/rakshithasetty41/statistics/blob/main/auto_regression_25_9.ipynb\" target=\"_parent\"><img src=\"https://colab.research.google.com/assets/colab-badge.svg\" alt=\"Open In Colab\"/></a>"
      ]
    },
    {
      "cell_type": "code",
      "execution_count": null,
      "metadata": {
        "colab": {
          "base_uri": "https://localhost:8080/"
        },
        "id": "tMRYgaPkF4Xz",
        "outputId": "a86e76fa-bf9d-46cf-d497-f60daa19f0d6"
      },
      "outputs": [
        {
          "output_type": "execute_result",
          "data": {
            "text/plain": [
              "18"
            ]
          },
          "metadata": {},
          "execution_count": 1
        }
      ],
      "source": [
        "tmpr = [10, 12, 13, 14.5, 16, 17, 17.9, 18, 21, 22, 21, 20, 18.7, 18, 16.8, 16, 15.4, 15.1]\n",
        "len(tmpr)"
      ]
    },
    {
      "cell_type": "code",
      "source": [
        "# 18 days of temperature recorded.based on given time line of data,estimate tomorrow's (19th day ) temperature.\n"
      ],
      "metadata": {
        "id": "fh097zkOF6xS"
      },
      "execution_count": null,
      "outputs": []
    },
    {
      "cell_type": "code",
      "source": [
        "past=tmpr[:-1]\n",
        "present=tmpr[1:]\n",
        "list(zip(past,present))"
      ],
      "metadata": {
        "colab": {
          "base_uri": "https://localhost:8080/"
        },
        "id": "sptYtplxF9hb",
        "outputId": "6f21e70f-1f3f-4a2c-850c-83670d60fe6a"
      },
      "execution_count": null,
      "outputs": [
        {
          "output_type": "execute_result",
          "data": {
            "text/plain": [
              "[(10, 12),\n",
              " (12, 13),\n",
              " (13, 14.5),\n",
              " (14.5, 16),\n",
              " (16, 17),\n",
              " (17, 17.9),\n",
              " (17.9, 18),\n",
              " (18, 21),\n",
              " (21, 22),\n",
              " (22, 21),\n",
              " (21, 20),\n",
              " (20, 18.7),\n",
              " (18.7, 18),\n",
              " (18, 16.8),\n",
              " (16.8, 16),\n",
              " (16, 15.4),\n",
              " (15.4, 15.1)]"
            ]
          },
          "metadata": {},
          "execution_count": 3
        }
      ]
    },
    {
      "cell_type": "code",
      "source": [
        "import numpy as np"
      ],
      "metadata": {
        "id": "oBTwRa2KGy2H"
      },
      "execution_count": null,
      "outputs": []
    },
    {
      "cell_type": "code",
      "source": [
        "ones=np.ones(len(past))\n",
        "len(ones)"
      ],
      "metadata": {
        "colab": {
          "base_uri": "https://localhost:8080/"
        },
        "id": "ArFNcHEkG6q-",
        "outputId": "13c9b65d-a37d-4200-f82d-0f427f50d7dd"
      },
      "execution_count": null,
      "outputs": [
        {
          "output_type": "execute_result",
          "data": {
            "text/plain": [
              "17"
            ]
          },
          "metadata": {},
          "execution_count": 9
        }
      ]
    },
    {
      "cell_type": "code",
      "source": [
        "X=np.c_[ones,past]\n",
        "X.shape"
      ],
      "metadata": {
        "colab": {
          "base_uri": "https://localhost:8080/"
        },
        "id": "SNqhyYhWG_E3",
        "outputId": "ee4ee35d-8e0a-4c8c-d23a-73f0ac86390d"
      },
      "execution_count": null,
      "outputs": [
        {
          "output_type": "execute_result",
          "data": {
            "text/plain": [
              "(17, 2)"
            ]
          },
          "metadata": {},
          "execution_count": 11
        }
      ]
    },
    {
      "cell_type": "code",
      "source": [
        "X"
      ],
      "metadata": {
        "colab": {
          "base_uri": "https://localhost:8080/"
        },
        "id": "CM5LRuHTHEt5",
        "outputId": "d3abdb39-db7d-420a-d9e0-c0c3d6c7be23"
      },
      "execution_count": null,
      "outputs": [
        {
          "output_type": "execute_result",
          "data": {
            "text/plain": [
              "array([[ 1. , 10. ],\n",
              "       [ 1. , 12. ],\n",
              "       [ 1. , 13. ],\n",
              "       [ 1. , 14.5],\n",
              "       [ 1. , 16. ],\n",
              "       [ 1. , 17. ],\n",
              "       [ 1. , 17.9],\n",
              "       [ 1. , 18. ],\n",
              "       [ 1. , 21. ],\n",
              "       [ 1. , 22. ],\n",
              "       [ 1. , 21. ],\n",
              "       [ 1. , 20. ],\n",
              "       [ 1. , 18.7],\n",
              "       [ 1. , 18. ],\n",
              "       [ 1. , 16.8],\n",
              "       [ 1. , 16. ],\n",
              "       [ 1. , 15.4]])"
            ]
          },
          "metadata": {},
          "execution_count": 12
        }
      ]
    },
    {
      "cell_type": "code",
      "source": [
        "Y=np.c_[present]\n",
        "Y.shape"
      ],
      "metadata": {
        "colab": {
          "base_uri": "https://localhost:8080/"
        },
        "id": "NJbdk1v-HGfN",
        "outputId": "0483120d-8a95-4ab0-803a-581fdd693f15"
      },
      "execution_count": null,
      "outputs": [
        {
          "output_type": "execute_result",
          "data": {
            "text/plain": [
              "(17, 1)"
            ]
          },
          "metadata": {},
          "execution_count": 14
        }
      ]
    },
    {
      "cell_type": "code",
      "source": [
        "Y"
      ],
      "metadata": {
        "colab": {
          "base_uri": "https://localhost:8080/"
        },
        "id": "7fjpsxptHLf7",
        "outputId": "27d062da-e6f4-4056-cb11-1c5b3e91ed96"
      },
      "execution_count": null,
      "outputs": [
        {
          "output_type": "execute_result",
          "data": {
            "text/plain": [
              "array([[12. ],\n",
              "       [13. ],\n",
              "       [14.5],\n",
              "       [16. ],\n",
              "       [17. ],\n",
              "       [17.9],\n",
              "       [18. ],\n",
              "       [21. ],\n",
              "       [22. ],\n",
              "       [21. ],\n",
              "       [20. ],\n",
              "       [18.7],\n",
              "       [18. ],\n",
              "       [16.8],\n",
              "       [16. ],\n",
              "       [15.4],\n",
              "       [15.1]])"
            ]
          },
          "metadata": {},
          "execution_count": 15
        }
      ]
    },
    {
      "cell_type": "code",
      "source": [
        "np.corrcoef(past,present)"
      ],
      "metadata": {
        "colab": {
          "base_uri": "https://localhost:8080/"
        },
        "id": "WPYE10_xHNEw",
        "outputId": "abc462ea-9dd8-49bc-c325-7eb71f1e2159"
      },
      "execution_count": null,
      "outputs": [
        {
          "output_type": "execute_result",
          "data": {
            "text/plain": [
              "array([[1.        , 0.92227187],\n",
              "       [0.92227187, 1.        ]])"
            ]
          },
          "metadata": {},
          "execution_count": 16
        }
      ]
    },
    {
      "cell_type": "code",
      "source": [
        "def weights(x,y):\n",
        "  from numpy.linalg import inv\n",
        "  l=inv(x.T.dot(x))\n",
        "  r=x.T.dot(y)\n",
        "  return l.dot(r)\n"
      ],
      "metadata": {
        "id": "CJEyecLXHRHt"
      },
      "execution_count": null,
      "outputs": []
    },
    {
      "cell_type": "code",
      "source": [
        "w=weights(X,Y)\n",
        "w.shape"
      ],
      "metadata": {
        "colab": {
          "base_uri": "https://localhost:8080/"
        },
        "id": "ArQRzc4AHgvF",
        "outputId": "f70f53d5-e1d4-4752-8f80-455aa9ab03b9"
      },
      "execution_count": null,
      "outputs": [
        {
          "output_type": "execute_result",
          "data": {
            "text/plain": [
              "(2, 1)"
            ]
          },
          "metadata": {},
          "execution_count": 18
        }
      ]
    },
    {
      "cell_type": "code",
      "source": [
        "w"
      ],
      "metadata": {
        "colab": {
          "base_uri": "https://localhost:8080/"
        },
        "id": "49c7SVk2HlVE",
        "outputId": "28481adc-c78f-401c-9e85-325e7e6de7c8"
      },
      "execution_count": null,
      "outputs": [
        {
          "output_type": "execute_result",
          "data": {
            "text/plain": [
              "array([[3.84901961],\n",
              "       [0.78999884]])"
            ]
          },
          "metadata": {},
          "execution_count": 19
        }
      ]
    },
    {
      "cell_type": "code",
      "source": [
        "ycap=X.dot(w)\n",
        "ycap"
      ],
      "metadata": {
        "colab": {
          "base_uri": "https://localhost:8080/"
        },
        "id": "ARVrDqToHm-n",
        "outputId": "4d9314c4-76ae-42dd-8034-4945c274c9ba"
      },
      "execution_count": null,
      "outputs": [
        {
          "output_type": "execute_result",
          "data": {
            "text/plain": [
              "array([[11.74900801],\n",
              "       [13.32900569],\n",
              "       [14.11900452],\n",
              "       [15.30400278],\n",
              "       [16.48900104],\n",
              "       [17.27899988],\n",
              "       [17.98999884],\n",
              "       [18.06899872],\n",
              "       [20.43899524],\n",
              "       [21.22899408],\n",
              "       [20.43899524],\n",
              "       [19.6489964 ],\n",
              "       [18.62199791],\n",
              "       [18.06899872],\n",
              "       [17.12100012],\n",
              "       [16.48900104],\n",
              "       [16.01500174]])"
            ]
          },
          "metadata": {},
          "execution_count": 21
        }
      ]
    },
    {
      "cell_type": "code",
      "source": [
        "np.c_[Y,ycap]"
      ],
      "metadata": {
        "colab": {
          "base_uri": "https://localhost:8080/"
        },
        "id": "5_2JwjOCH4a2",
        "outputId": "e1940c42-3b2e-444f-d81a-0348d1dea01f"
      },
      "execution_count": null,
      "outputs": [
        {
          "output_type": "execute_result",
          "data": {
            "text/plain": [
              "array([[12.        , 11.74900801],\n",
              "       [13.        , 13.32900569],\n",
              "       [14.5       , 14.11900452],\n",
              "       [16.        , 15.30400278],\n",
              "       [17.        , 16.48900104],\n",
              "       [17.9       , 17.27899988],\n",
              "       [18.        , 17.98999884],\n",
              "       [21.        , 18.06899872],\n",
              "       [22.        , 20.43899524],\n",
              "       [21.        , 21.22899408],\n",
              "       [20.        , 20.43899524],\n",
              "       [18.7       , 19.6489964 ],\n",
              "       [18.        , 18.62199791],\n",
              "       [16.8       , 18.06899872],\n",
              "       [16.        , 17.12100012],\n",
              "       [15.4       , 16.48900104],\n",
              "       [15.1       , 16.01500174]])"
            ]
          },
          "metadata": {},
          "execution_count": 22
        }
      ]
    },
    {
      "cell_type": "code",
      "source": [
        "def rsquare(y,ycap):\n",
        "  rss=((y-ycap)**2).sum()\n",
        "  tss=((y-y.mean())**2).sum()\n",
        "  r=1-(rss)/(tss)\n",
        "  return r"
      ],
      "metadata": {
        "id": "iOykRinTH7Pn"
      },
      "execution_count": null,
      "outputs": []
    },
    {
      "cell_type": "code",
      "source": [
        "accuarcy=rsquare(Y,ycap)*100\n",
        "accuarcy"
      ],
      "metadata": {
        "colab": {
          "base_uri": "https://localhost:8080/"
        },
        "id": "jTGootnMIQT4",
        "outputId": "ea20bdfb-3865-4440-f090-03c95fec931b"
      },
      "execution_count": null,
      "outputs": [
        {
          "output_type": "execute_result",
          "data": {
            "text/plain": [
              "np.float64(85.05854048089188)"
            ]
          },
          "metadata": {},
          "execution_count": 24
        }
      ]
    },
    {
      "cell_type": "code",
      "source": [
        "tmpr[-1]"
      ],
      "metadata": {
        "colab": {
          "base_uri": "https://localhost:8080/"
        },
        "id": "KTIn-Lc9IccK",
        "outputId": "88ebc264-d9cb-4d58-da56-4ff81a34880d"
      },
      "execution_count": null,
      "outputs": [
        {
          "output_type": "execute_result",
          "data": {
            "text/plain": [
              "15.1"
            ]
          },
          "metadata": {},
          "execution_count": 25
        }
      ]
    },
    {
      "cell_type": "code",
      "source": [
        "p=np.array([1,tmpr[-1]])\n",
        "p"
      ],
      "metadata": {
        "colab": {
          "base_uri": "https://localhost:8080/"
        },
        "id": "A9Sz89BnIedP",
        "outputId": "ae02b76b-fa1a-424c-eb98-4708f4e9d2e5"
      },
      "execution_count": null,
      "outputs": [
        {
          "output_type": "execute_result",
          "data": {
            "text/plain": [
              "array([ 1. , 15.1])"
            ]
          },
          "metadata": {},
          "execution_count": 26
        }
      ]
    },
    {
      "cell_type": "code",
      "source": [
        "tommorrow=p.dot(w)\n",
        "tommorrow"
      ],
      "metadata": {
        "colab": {
          "base_uri": "https://localhost:8080/"
        },
        "id": "DEKaUYF-IoQB",
        "outputId": "3003261f-e169-48e7-b69f-27e444ff12e9"
      },
      "execution_count": null,
      "outputs": [
        {
          "output_type": "execute_result",
          "data": {
            "text/plain": [
              "array([15.77800209])"
            ]
          },
          "metadata": {},
          "execution_count": 28
        }
      ]
    },
    {
      "cell_type": "code",
      "source": [
        "print(\"tommorrow temparature is \", round(tommorrow[0],2))"
      ],
      "metadata": {
        "colab": {
          "base_uri": "https://localhost:8080/"
        },
        "id": "P8LOd6sDJhzC",
        "outputId": "f8709667-9162-4d06-ef65-41c8e704b31d"
      },
      "execution_count": null,
      "outputs": [
        {
          "output_type": "stream",
          "name": "stdout",
          "text": [
            "tommorrow temparature is  15.78\n"
          ]
        }
      ]
    },
    {
      "cell_type": "code",
      "source": [
        "#non linear polynomal degree2\n",
        "p=np.array(past)\n",
        "p2=p**2\n",
        "X2=np.c_[ones,p,p2]\n",
        "X2.shape"
      ],
      "metadata": {
        "colab": {
          "base_uri": "https://localhost:8080/"
        },
        "id": "y5E6W7EKJur_",
        "outputId": "18f981fa-a7e4-4054-a735-d432f3499ca7"
      },
      "execution_count": null,
      "outputs": [
        {
          "output_type": "execute_result",
          "data": {
            "text/plain": [
              "(17, 3)"
            ]
          },
          "metadata": {},
          "execution_count": 42
        }
      ]
    },
    {
      "cell_type": "code",
      "source": [
        "Y.shape"
      ],
      "metadata": {
        "colab": {
          "base_uri": "https://localhost:8080/"
        },
        "id": "MwtD09FOKAvb",
        "outputId": "d95225d6-3e76-4bc4-e35b-16851a3540e8"
      },
      "execution_count": null,
      "outputs": [
        {
          "output_type": "execute_result",
          "data": {
            "text/plain": [
              "(17, 1)"
            ]
          },
          "metadata": {},
          "execution_count": 40
        }
      ]
    },
    {
      "cell_type": "code",
      "source": [
        "w2=weights(X2,Y)\n",
        "w2"
      ],
      "metadata": {
        "colab": {
          "base_uri": "https://localhost:8080/"
        },
        "id": "pmPDl7A8KD-f",
        "outputId": "b0f3a755-9ed6-4308-f8ba-53a120a59081"
      },
      "execution_count": null,
      "outputs": [
        {
          "output_type": "execute_result",
          "data": {
            "text/plain": [
              "array([[5.41988955],\n",
              "       [0.58901213],\n",
              "       [0.00617348]])"
            ]
          },
          "metadata": {},
          "execution_count": 43
        }
      ]
    },
    {
      "cell_type": "code",
      "source": [
        "ycap=X2.dot(w2)\n",
        "ycap"
      ],
      "metadata": {
        "colab": {
          "base_uri": "https://localhost:8080/"
        },
        "id": "883YzG2RKO4Z",
        "outputId": "e5dbe3ac-077a-4c1d-d362-2a8b0ec9898f"
      },
      "execution_count": null,
      "outputs": [
        {
          "output_type": "execute_result",
          "data": {
            "text/plain": [
              "array([[11.92735843],\n",
              "       [13.37701562],\n",
              "       [14.12036464],\n",
              "       [15.25853871],\n",
              "       [16.42449342],\n",
              "       [17.21723025],\n",
              "       [17.94125004],\n",
              "       [18.02231403],\n",
              "       [20.51164708],\n",
              "       [21.36611867],\n",
              "       [20.51164708],\n",
              "       [19.66952245],\n",
              "       [18.59321911],\n",
              "       [18.02231403],\n",
              "       [17.05769513],\n",
              "       [16.42449342],\n",
              "       [15.95477786]])"
            ]
          },
          "metadata": {},
          "execution_count": 44
        }
      ]
    },
    {
      "cell_type": "code",
      "source": [
        "np.c_[Y,ycap]"
      ],
      "metadata": {
        "colab": {
          "base_uri": "https://localhost:8080/"
        },
        "id": "_WtA4_OqKbMT",
        "outputId": "dd09ad3d-364e-4410-9d9c-7fe615794ca3"
      },
      "execution_count": null,
      "outputs": [
        {
          "output_type": "execute_result",
          "data": {
            "text/plain": [
              "array([[12.        , 11.92735843],\n",
              "       [13.        , 13.37701562],\n",
              "       [14.5       , 14.12036464],\n",
              "       [16.        , 15.25853871],\n",
              "       [17.        , 16.42449342],\n",
              "       [17.9       , 17.21723025],\n",
              "       [18.        , 17.94125004],\n",
              "       [21.        , 18.02231403],\n",
              "       [22.        , 20.51164708],\n",
              "       [21.        , 21.36611867],\n",
              "       [20.        , 20.51164708],\n",
              "       [18.7       , 19.66952245],\n",
              "       [18.        , 18.59321911],\n",
              "       [16.8       , 18.02231403],\n",
              "       [16.        , 17.05769513],\n",
              "       [15.4       , 16.42449342],\n",
              "       [15.1       , 15.95477786]])"
            ]
          },
          "metadata": {},
          "execution_count": 45
        }
      ]
    },
    {
      "cell_type": "code",
      "source": [
        "accuarcy2=rsquare(Y,ycap)*100\n",
        "accuarcy2"
      ],
      "metadata": {
        "colab": {
          "base_uri": "https://localhost:8080/"
        },
        "id": "JU-LzdJsKiL-",
        "outputId": "c65de6ed-4e2c-42d3-eca1-3cf2d263e126"
      },
      "execution_count": null,
      "outputs": [
        {
          "output_type": "execute_result",
          "data": {
            "text/plain": [
              "np.float64(85.13230683487866)"
            ]
          },
          "metadata": {},
          "execution_count": 46
        }
      ]
    },
    {
      "cell_type": "code",
      "source": [
        "wipro = [\n",
        "    249.63, 250.33, 255.88, 256.93, 254.15,\n",
        "    254.01, 251.28, 251.94, 253.91, 255.75,\n",
        "    249.15, 242.52, 243.67, 244.97, 249.56,\n",
        "    250.93, 250.36, 249.41, 250.65, 252.03\n",
        "]"
      ],
      "metadata": {
        "id": "0f0zjWKSK6oZ"
      },
      "execution_count": null,
      "outputs": []
    },
    {
      "cell_type": "code",
      "source": [
        "len(wipro)"
      ],
      "metadata": {
        "colab": {
          "base_uri": "https://localhost:8080/"
        },
        "id": "iTKUqE5NLAGO",
        "outputId": "723411d0-e4f3-4d8c-e3e6-befa14445728"
      },
      "execution_count": null,
      "outputs": [
        {
          "output_type": "execute_result",
          "data": {
            "text/plain": [
              "20"
            ]
          },
          "metadata": {},
          "execution_count": 48
        }
      ]
    },
    {
      "cell_type": "code",
      "source": [
        "past=wipro[:-1]\n",
        "present=wipro[1:]\n",
        "list(zip(past,present))"
      ],
      "metadata": {
        "colab": {
          "base_uri": "https://localhost:8080/"
        },
        "id": "rZmK-1QPLCAh",
        "outputId": "4e626dd9-8b6d-4f61-c10e-ce50e0d886aa"
      },
      "execution_count": null,
      "outputs": [
        {
          "output_type": "execute_result",
          "data": {
            "text/plain": [
              "[(249.63, 250.33),\n",
              " (250.33, 255.88),\n",
              " (255.88, 256.93),\n",
              " (256.93, 254.15),\n",
              " (254.15, 254.01),\n",
              " (254.01, 251.28),\n",
              " (251.28, 251.94),\n",
              " (251.94, 253.91),\n",
              " (253.91, 255.75),\n",
              " (255.75, 249.15),\n",
              " (249.15, 242.52),\n",
              " (242.52, 243.67),\n",
              " (243.67, 244.97),\n",
              " (244.97, 249.56),\n",
              " (249.56, 250.93),\n",
              " (250.93, 250.36),\n",
              " (250.36, 249.41),\n",
              " (249.41, 250.65),\n",
              " (250.65, 252.03)]"
            ]
          },
          "metadata": {},
          "execution_count": 49
        }
      ]
    },
    {
      "cell_type": "code",
      "source": [
        "np.corrcoef(past,present)"
      ],
      "metadata": {
        "colab": {
          "base_uri": "https://localhost:8080/"
        },
        "id": "-59BoXmELaUW",
        "outputId": "143c942a-9793-40a6-bb5e-b75376ba9849"
      },
      "execution_count": null,
      "outputs": [
        {
          "output_type": "execute_result",
          "data": {
            "text/plain": [
              "array([[1.       , 0.6929666],\n",
              "       [0.6929666, 1.       ]])"
            ]
          },
          "metadata": {},
          "execution_count": 50
        }
      ]
    },
    {
      "cell_type": "code",
      "source": [
        "ones=np.ones(len(past))\n",
        "len(ones)"
      ],
      "metadata": {
        "colab": {
          "base_uri": "https://localhost:8080/"
        },
        "id": "sL0nEOfqLkD_",
        "outputId": "849c66cd-71c4-452f-e734-685045edd4ae"
      },
      "execution_count": null,
      "outputs": [
        {
          "output_type": "execute_result",
          "data": {
            "text/plain": [
              "19"
            ]
          },
          "metadata": {},
          "execution_count": 51
        }
      ]
    },
    {
      "cell_type": "code",
      "source": [
        "X=np.c_[ones,past]\n",
        "X.shape"
      ],
      "metadata": {
        "colab": {
          "base_uri": "https://localhost:8080/"
        },
        "id": "GvTRnlmbLruu",
        "outputId": "8056183c-c078-4233-ee28-b3870dafa11b"
      },
      "execution_count": null,
      "outputs": [
        {
          "output_type": "execute_result",
          "data": {
            "text/plain": [
              "(19, 2)"
            ]
          },
          "metadata": {},
          "execution_count": 52
        }
      ]
    },
    {
      "cell_type": "code",
      "source": [
        "X"
      ],
      "metadata": {
        "colab": {
          "base_uri": "https://localhost:8080/"
        },
        "id": "uCPRKuHlLwqx",
        "outputId": "0348ee8a-45ca-4acf-e57c-d11f11bfe744"
      },
      "execution_count": null,
      "outputs": [
        {
          "output_type": "execute_result",
          "data": {
            "text/plain": [
              "array([[  1.  , 249.63],\n",
              "       [  1.  , 250.33],\n",
              "       [  1.  , 255.88],\n",
              "       [  1.  , 256.93],\n",
              "       [  1.  , 254.15],\n",
              "       [  1.  , 254.01],\n",
              "       [  1.  , 251.28],\n",
              "       [  1.  , 251.94],\n",
              "       [  1.  , 253.91],\n",
              "       [  1.  , 255.75],\n",
              "       [  1.  , 249.15],\n",
              "       [  1.  , 242.52],\n",
              "       [  1.  , 243.67],\n",
              "       [  1.  , 244.97],\n",
              "       [  1.  , 249.56],\n",
              "       [  1.  , 250.93],\n",
              "       [  1.  , 250.36],\n",
              "       [  1.  , 249.41],\n",
              "       [  1.  , 250.65]])"
            ]
          },
          "metadata": {},
          "execution_count": 53
        }
      ]
    },
    {
      "cell_type": "code",
      "source": [
        "Y=np.c_[present]\n",
        "Y.shape"
      ],
      "metadata": {
        "colab": {
          "base_uri": "https://localhost:8080/"
        },
        "id": "5RCmYQCeLyi-",
        "outputId": "d19cd06c-2f1e-4e06-ed57-42ddd780c024"
      },
      "execution_count": null,
      "outputs": [
        {
          "output_type": "execute_result",
          "data": {
            "text/plain": [
              "(19, 1)"
            ]
          },
          "metadata": {},
          "execution_count": 54
        }
      ]
    },
    {
      "cell_type": "code",
      "source": [
        "Y"
      ],
      "metadata": {
        "colab": {
          "base_uri": "https://localhost:8080/"
        },
        "id": "BZcinWL4L3e1",
        "outputId": "fb9dbc8e-6bcd-4c23-a2cf-51aed8f85ae0"
      },
      "execution_count": null,
      "outputs": [
        {
          "output_type": "execute_result",
          "data": {
            "text/plain": [
              "array([[250.33],\n",
              "       [255.88],\n",
              "       [256.93],\n",
              "       [254.15],\n",
              "       [254.01],\n",
              "       [251.28],\n",
              "       [251.94],\n",
              "       [253.91],\n",
              "       [255.75],\n",
              "       [249.15],\n",
              "       [242.52],\n",
              "       [243.67],\n",
              "       [244.97],\n",
              "       [249.56],\n",
              "       [250.93],\n",
              "       [250.36],\n",
              "       [249.41],\n",
              "       [250.65],\n",
              "       [252.03]])"
            ]
          },
          "metadata": {},
          "execution_count": 55
        }
      ]
    },
    {
      "cell_type": "code",
      "source": [
        "w=weights(X,Y)\n",
        "w.shape"
      ],
      "metadata": {
        "colab": {
          "base_uri": "https://localhost:8080/"
        },
        "id": "crG7NkrrL5_p",
        "outputId": "08c178c2-3d08-4b2c-994e-2985dd75f11d"
      },
      "execution_count": null,
      "outputs": [
        {
          "output_type": "execute_result",
          "data": {
            "text/plain": [
              "(2, 1)"
            ]
          },
          "metadata": {},
          "execution_count": 56
        }
      ]
    },
    {
      "cell_type": "code",
      "source": [
        "w"
      ],
      "metadata": {
        "colab": {
          "base_uri": "https://localhost:8080/"
        },
        "id": "x3vpPvNGL-C4",
        "outputId": "17b1f962-1cf3-4629-cedb-4c9791c7ec8a"
      },
      "execution_count": null,
      "outputs": [
        {
          "output_type": "execute_result",
          "data": {
            "text/plain": [
              "array([[77.16335551],\n",
              "       [ 0.69282381]])"
            ]
          },
          "metadata": {},
          "execution_count": 57
        }
      ]
    },
    {
      "cell_type": "code",
      "source": [
        "ycap=X.dot(w)\n",
        "ycap"
      ],
      "metadata": {
        "colab": {
          "base_uri": "https://localhost:8080/"
        },
        "id": "7ds4aS_9MHEm",
        "outputId": "e15b350c-797d-4dd6-95b2-e6ac92b33f57"
      },
      "execution_count": null,
      "outputs": [
        {
          "output_type": "execute_result",
          "data": {
            "text/plain": [
              "array([[250.11296351],\n",
              "       [250.59794018],\n",
              "       [254.44311233],\n",
              "       [255.17057733],\n",
              "       [253.24452714],\n",
              "       [253.1475318 ],\n",
              "       [251.2561228 ],\n",
              "       [251.71338652],\n",
              "       [253.07824942],\n",
              "       [254.35304524],\n",
              "       [249.78040808],\n",
              "       [245.18698621],\n",
              "       [245.9837336 ],\n",
              "       [246.88440455],\n",
              "       [250.06446584],\n",
              "       [251.01363447],\n",
              "       [250.61872489],\n",
              "       [249.96054227],\n",
              "       [250.8196438 ]])"
            ]
          },
          "metadata": {},
          "execution_count": 58
        }
      ]
    },
    {
      "cell_type": "code",
      "source": [
        "np.c_[Y,ycap]"
      ],
      "metadata": {
        "colab": {
          "base_uri": "https://localhost:8080/"
        },
        "id": "ctv8mx6JMORu",
        "outputId": "4870242a-3d44-4613-a949-003f906e6fc6"
      },
      "execution_count": null,
      "outputs": [
        {
          "output_type": "execute_result",
          "data": {
            "text/plain": [
              "array([[250.33      , 250.11296351],\n",
              "       [255.88      , 250.59794018],\n",
              "       [256.93      , 254.44311233],\n",
              "       [254.15      , 255.17057733],\n",
              "       [254.01      , 253.24452714],\n",
              "       [251.28      , 253.1475318 ],\n",
              "       [251.94      , 251.2561228 ],\n",
              "       [253.91      , 251.71338652],\n",
              "       [255.75      , 253.07824942],\n",
              "       [249.15      , 254.35304524],\n",
              "       [242.52      , 249.78040808],\n",
              "       [243.67      , 245.18698621],\n",
              "       [244.97      , 245.9837336 ],\n",
              "       [249.56      , 246.88440455],\n",
              "       [250.93      , 250.06446584],\n",
              "       [250.36      , 251.01363447],\n",
              "       [249.41      , 250.61872489],\n",
              "       [250.65      , 249.96054227],\n",
              "       [252.03      , 250.8196438 ]])"
            ]
          },
          "metadata": {},
          "execution_count": 59
        }
      ]
    },
    {
      "cell_type": "code",
      "source": [
        "accu=rsquare(Y,ycap)*100\n",
        "accu"
      ],
      "metadata": {
        "colab": {
          "base_uri": "https://localhost:8080/"
        },
        "id": "sSCcIdPYMR3m",
        "outputId": "24a29027-42f9-44dc-9559-698ff528d85b"
      },
      "execution_count": null,
      "outputs": [
        {
          "output_type": "execute_result",
          "data": {
            "text/plain": [
              "np.float64(48.02027135494238)"
            ]
          },
          "metadata": {},
          "execution_count": 60
        }
      ]
    },
    {
      "cell_type": "code",
      "source": [
        "wipro[-1]\n"
      ],
      "metadata": {
        "colab": {
          "base_uri": "https://localhost:8080/"
        },
        "id": "slVdi413XGgl",
        "outputId": "9acbe6c0-2fdc-4322-9bfe-3ddf9cd4f4fa"
      },
      "execution_count": null,
      "outputs": [
        {
          "output_type": "execute_result",
          "data": {
            "text/plain": [
              "252.03"
            ]
          },
          "metadata": {},
          "execution_count": 78
        }
      ]
    },
    {
      "cell_type": "code",
      "source": [
        "p=np.c_[1,wipro[-1]]\n",
        "p.shape"
      ],
      "metadata": {
        "colab": {
          "base_uri": "https://localhost:8080/"
        },
        "id": "7ozTC7GuXYm3",
        "outputId": "e3a1cc1c-a905-4a73-80da-860c8bae366a"
      },
      "execution_count": null,
      "outputs": [
        {
          "output_type": "execute_result",
          "data": {
            "text/plain": [
              "(1, 2)"
            ]
          },
          "metadata": {},
          "execution_count": 79
        }
      ]
    },
    {
      "cell_type": "code",
      "source": [
        "p"
      ],
      "metadata": {
        "colab": {
          "base_uri": "https://localhost:8080/"
        },
        "id": "sgj8H5qdXfF1",
        "outputId": "05508356-26d9-4f96-cefa-2b55800798d8"
      },
      "execution_count": null,
      "outputs": [
        {
          "output_type": "execute_result",
          "data": {
            "text/plain": [
              "array([[  1.  , 252.03]])"
            ]
          },
          "metadata": {},
          "execution_count": 80
        }
      ]
    },
    {
      "cell_type": "code",
      "source": [
        "future=p.dot(w)\n",
        "future"
      ],
      "metadata": {
        "colab": {
          "base_uri": "https://localhost:8080/"
        },
        "id": "WXUTJLh9Xg_F",
        "outputId": "25531d98-40b3-4cc9-a309-764caa5bc83d"
      },
      "execution_count": null,
      "outputs": [
        {
          "output_type": "execute_result",
          "data": {
            "text/plain": [
              "array([[251.77574066]])"
            ]
          },
          "metadata": {},
          "execution_count": 83
        }
      ]
    },
    {
      "cell_type": "code",
      "source": [
        "print(\"Tommorrow's share: \",round(future[0][0],2))"
      ],
      "metadata": {
        "colab": {
          "base_uri": "https://localhost:8080/"
        },
        "id": "ZOAhwAuHXqiM",
        "outputId": "c261a25c-4f00-407b-a714-3fa3e4589779"
      },
      "execution_count": null,
      "outputs": [
        {
          "output_type": "stream",
          "name": "stdout",
          "text": [
            "Tommorrow's share:  251.78\n"
          ]
        }
      ]
    },
    {
      "cell_type": "code",
      "source": [
        "#polynomail degree 2 (non linear)\n",
        "q=np.array(past)\n",
        "q2=q**2\n",
        "X2=np.c_[ones,q,q2]\n",
        "X2.shape\n"
      ],
      "metadata": {
        "colab": {
          "base_uri": "https://localhost:8080/"
        },
        "id": "C-C_1xzXMRpW",
        "outputId": "262f2e9a-fc5b-43ab-c7b3-bf3e2a9b7e82"
      },
      "execution_count": null,
      "outputs": [
        {
          "output_type": "execute_result",
          "data": {
            "text/plain": [
              "(19, 3)"
            ]
          },
          "metadata": {},
          "execution_count": 70
        }
      ]
    },
    {
      "cell_type": "code",
      "source": [
        "X2"
      ],
      "metadata": {
        "id": "ERjM6Fn-cDTV",
        "outputId": "f47289ca-b0d1-4c6c-e055-242b83046582",
        "colab": {
          "base_uri": "https://localhost:8080/"
        }
      },
      "execution_count": null,
      "outputs": [
        {
          "output_type": "execute_result",
          "data": {
            "text/plain": [
              "array([[1.00000000e+00, 2.49630000e+02, 6.23151369e+04],\n",
              "       [1.00000000e+00, 2.50330000e+02, 6.26651089e+04],\n",
              "       [1.00000000e+00, 2.55880000e+02, 6.54745744e+04],\n",
              "       [1.00000000e+00, 2.56930000e+02, 6.60130249e+04],\n",
              "       [1.00000000e+00, 2.54150000e+02, 6.45922225e+04],\n",
              "       [1.00000000e+00, 2.54010000e+02, 6.45210801e+04],\n",
              "       [1.00000000e+00, 2.51280000e+02, 6.31416384e+04],\n",
              "       [1.00000000e+00, 2.51940000e+02, 6.34737636e+04],\n",
              "       [1.00000000e+00, 2.53910000e+02, 6.44702881e+04],\n",
              "       [1.00000000e+00, 2.55750000e+02, 6.54080625e+04],\n",
              "       [1.00000000e+00, 2.49150000e+02, 6.20757225e+04],\n",
              "       [1.00000000e+00, 2.42520000e+02, 5.88159504e+04],\n",
              "       [1.00000000e+00, 2.43670000e+02, 5.93750689e+04],\n",
              "       [1.00000000e+00, 2.44970000e+02, 6.00103009e+04],\n",
              "       [1.00000000e+00, 2.49560000e+02, 6.22801936e+04],\n",
              "       [1.00000000e+00, 2.50930000e+02, 6.29658649e+04],\n",
              "       [1.00000000e+00, 2.50360000e+02, 6.26801296e+04],\n",
              "       [1.00000000e+00, 2.49410000e+02, 6.22053481e+04],\n",
              "       [1.00000000e+00, 2.50650000e+02, 6.28254225e+04]])"
            ]
          },
          "metadata": {},
          "execution_count": 89
        }
      ]
    },
    {
      "cell_type": "code",
      "source": [
        "w2=weights(X2,Y)\n",
        "w2.shape"
      ],
      "metadata": {
        "colab": {
          "base_uri": "https://localhost:8080/"
        },
        "id": "PsaUWbbPMb8Y",
        "outputId": "da7a5b1e-03c1-4c11-f3e4-f1eb14eaf597"
      },
      "execution_count": null,
      "outputs": [
        {
          "output_type": "execute_result",
          "data": {
            "text/plain": [
              "(3, 1)"
            ]
          },
          "metadata": {},
          "execution_count": 71
        }
      ]
    },
    {
      "cell_type": "code",
      "source": [
        "w2"
      ],
      "metadata": {
        "colab": {
          "base_uri": "https://localhost:8080/"
        },
        "id": "QTfrSbnBNIlQ",
        "outputId": "dc906327-9b88-4c4d-e81e-c0bc0f145ddb"
      },
      "execution_count": null,
      "outputs": [
        {
          "output_type": "execute_result",
          "data": {
            "text/plain": [
              "array([[-1.57335229e+03],\n",
              "       [ 1.39096943e+01],\n",
              "       [-2.64525657e-02]])"
            ]
          },
          "metadata": {},
          "execution_count": 73
        }
      ]
    },
    {
      "cell_type": "code",
      "source": [
        "ycap2=X2.dot(w2)\n",
        "ycap2"
      ],
      "metadata": {
        "colab": {
          "base_uri": "https://localhost:8080/"
        },
        "id": "hFsQMCafNR4k",
        "outputId": "fd83ac12-d4e7-4925-b663-9bd429eca5b4"
      },
      "execution_count": null,
      "outputs": [
        {
          "output_type": "execute_result",
          "data": {
            "text/plain": [
              "array([[250.52945383],\n",
              "       [251.00858256],\n",
              "       [253.88981548],\n",
              "       [254.25159732],\n",
              "       [253.16651586],\n",
              "       [253.10105766],\n",
              "       [251.61736428],\n",
              "       [252.01219888],\n",
              "       [253.05366694],\n",
              "       [253.84096562],\n",
              "       [250.18592569],\n",
              "       [244.19398779],\n",
              "       [245.40001744],\n",
              "       [246.67910388],\n",
              "       [250.48011517],\n",
              "       [251.39863132],\n",
              "       [251.02853733],\n",
              "       [250.37351652],\n",
              "       [251.21897871]])"
            ]
          },
          "metadata": {},
          "execution_count": 74
        }
      ]
    },
    {
      "cell_type": "code",
      "source": [
        "np.c_[Y,ycap2]"
      ],
      "metadata": {
        "colab": {
          "base_uri": "https://localhost:8080/"
        },
        "id": "PjY8eRmQNYgN",
        "outputId": "9a022ab8-e523-4b80-f90d-8f333eaa3bfb"
      },
      "execution_count": null,
      "outputs": [
        {
          "output_type": "execute_result",
          "data": {
            "text/plain": [
              "array([[250.33      , 250.52945383],\n",
              "       [255.88      , 251.00858256],\n",
              "       [256.93      , 253.88981548],\n",
              "       [254.15      , 254.25159732],\n",
              "       [254.01      , 253.16651586],\n",
              "       [251.28      , 253.10105766],\n",
              "       [251.94      , 251.61736428],\n",
              "       [253.91      , 252.01219888],\n",
              "       [255.75      , 253.05366694],\n",
              "       [249.15      , 253.84096562],\n",
              "       [242.52      , 250.18592569],\n",
              "       [243.67      , 244.19398779],\n",
              "       [244.97      , 245.40001744],\n",
              "       [249.56      , 246.67910388],\n",
              "       [250.93      , 250.48011517],\n",
              "       [250.36      , 251.39863132],\n",
              "       [249.41      , 251.02853733],\n",
              "       [250.65      , 250.37351652],\n",
              "       [252.03      , 251.21897871]])"
            ]
          },
          "metadata": {},
          "execution_count": 75
        }
      ]
    },
    {
      "cell_type": "code",
      "source": [
        "acc=rsquare(Y,ycap2)*100\n",
        "acc"
      ],
      "metadata": {
        "colab": {
          "base_uri": "https://localhost:8080/"
        },
        "id": "bgQwLJX1Nb8e",
        "outputId": "6d8870ef-a950-4681-d958-065d5bf3e7b9"
      },
      "execution_count": null,
      "outputs": [
        {
          "output_type": "execute_result",
          "data": {
            "text/plain": [
              "np.float64(49.558401012750174)"
            ]
          },
          "metadata": {},
          "execution_count": 76
        }
      ]
    }
  ]
}